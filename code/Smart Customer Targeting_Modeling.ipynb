{
 "cells": [
  {
   "cell_type": "code",
   "execution_count": 1,
   "id": "e38608ab",
   "metadata": {
    "ExecuteTime": {
     "end_time": "2023-04-11T05:01:50.769745Z",
     "start_time": "2023-04-11T05:01:46.314293Z"
    }
   },
   "outputs": [],
   "source": [
    "import numpy as np\n",
    "import pandas as pd\n",
    "import matplotlib.pyplot as plt\n",
    "import seaborn as sns\n",
    "from statsmodels.stats.outliers_influence import variance_inflation_factor\n",
    "from sklearn.model_selection import GridSearchCV\n",
    "from sklearn.ensemble import RandomForestClassifier\n",
    "from sklearn.tree import DecisionTreeClassifier\n",
    "import xgboost as xgb\n",
    "from sklearn.model_selection import train_test_split\n",
    "from sklearn.metrics import classification_report\n",
    "from sklearn.metrics import f1_score, make_scorer\n",
    "\n",
    "import sklearn\n",
    "\n",
    "### Class imbalance\n",
    "from imblearn.over_sampling import RandomOverSampler\n",
    "import pickle"
   ]
  },
  {
   "cell_type": "code",
   "execution_count": 2,
   "id": "6300aa81",
   "metadata": {
    "ExecuteTime": {
     "end_time": "2023-04-11T05:01:50.799757Z",
     "start_time": "2023-04-11T05:01:50.775707Z"
    }
   },
   "outputs": [
    {
     "data": {
      "text/plain": [
       "'1.6.1'"
      ]
     },
     "execution_count": 2,
     "metadata": {},
     "output_type": "execute_result"
    }
   ],
   "source": [
    "xgb.__version__"
   ]
  },
  {
   "cell_type": "code",
   "execution_count": 3,
   "id": "a9b08b7f",
   "metadata": {
    "ExecuteTime": {
     "end_time": "2023-04-11T05:01:50.845825Z",
     "start_time": "2023-04-11T05:01:50.825698Z"
    }
   },
   "outputs": [],
   "source": [
    "plt.style.use('seaborn-dark-palette')"
   ]
  },
  {
   "cell_type": "markdown",
   "id": "fbe7ce6f",
   "metadata": {},
   "source": [
    "<div style='padding: 5px; background-color: rgb(0, 128, 128); color: white'> Loading Data </div>"
   ]
  },
  {
   "cell_type": "code",
   "execution_count": 4,
   "id": "70821236",
   "metadata": {
    "ExecuteTime": {
     "end_time": "2023-04-11T05:01:51.129355Z",
     "start_time": "2023-04-11T05:01:50.850781Z"
    }
   },
   "outputs": [],
   "source": [
    "data = pd.read_csv('../data/bank-full.csv', sep=';')"
   ]
  },
  {
   "cell_type": "code",
   "execution_count": 5,
   "id": "de598f25",
   "metadata": {
    "ExecuteTime": {
     "end_time": "2023-04-11T05:01:51.192357Z",
     "start_time": "2023-04-11T05:01:51.131377Z"
    }
   },
   "outputs": [
    {
     "data": {
      "text/html": [
       "<div>\n",
       "<style scoped>\n",
       "    .dataframe tbody tr th:only-of-type {\n",
       "        vertical-align: middle;\n",
       "    }\n",
       "\n",
       "    .dataframe tbody tr th {\n",
       "        vertical-align: top;\n",
       "    }\n",
       "\n",
       "    .dataframe thead th {\n",
       "        text-align: right;\n",
       "    }\n",
       "</style>\n",
       "<table border=\"1\" class=\"dataframe\">\n",
       "  <thead>\n",
       "    <tr style=\"text-align: right;\">\n",
       "      <th></th>\n",
       "      <th>age</th>\n",
       "      <th>job</th>\n",
       "      <th>marital</th>\n",
       "      <th>education</th>\n",
       "      <th>default</th>\n",
       "      <th>balance</th>\n",
       "      <th>housing</th>\n",
       "      <th>loan</th>\n",
       "      <th>contact</th>\n",
       "      <th>day</th>\n",
       "      <th>month</th>\n",
       "      <th>duration</th>\n",
       "      <th>campaign</th>\n",
       "      <th>pdays</th>\n",
       "      <th>previous</th>\n",
       "      <th>poutcome</th>\n",
       "      <th>y</th>\n",
       "    </tr>\n",
       "  </thead>\n",
       "  <tbody>\n",
       "    <tr>\n",
       "      <th>0</th>\n",
       "      <td>58</td>\n",
       "      <td>management</td>\n",
       "      <td>married</td>\n",
       "      <td>tertiary</td>\n",
       "      <td>no</td>\n",
       "      <td>2143</td>\n",
       "      <td>yes</td>\n",
       "      <td>no</td>\n",
       "      <td>unknown</td>\n",
       "      <td>5</td>\n",
       "      <td>may</td>\n",
       "      <td>261</td>\n",
       "      <td>1</td>\n",
       "      <td>-1</td>\n",
       "      <td>0</td>\n",
       "      <td>unknown</td>\n",
       "      <td>no</td>\n",
       "    </tr>\n",
       "    <tr>\n",
       "      <th>1</th>\n",
       "      <td>44</td>\n",
       "      <td>technician</td>\n",
       "      <td>single</td>\n",
       "      <td>secondary</td>\n",
       "      <td>no</td>\n",
       "      <td>29</td>\n",
       "      <td>yes</td>\n",
       "      <td>no</td>\n",
       "      <td>unknown</td>\n",
       "      <td>5</td>\n",
       "      <td>may</td>\n",
       "      <td>151</td>\n",
       "      <td>1</td>\n",
       "      <td>-1</td>\n",
       "      <td>0</td>\n",
       "      <td>unknown</td>\n",
       "      <td>no</td>\n",
       "    </tr>\n",
       "    <tr>\n",
       "      <th>2</th>\n",
       "      <td>33</td>\n",
       "      <td>entrepreneur</td>\n",
       "      <td>married</td>\n",
       "      <td>secondary</td>\n",
       "      <td>no</td>\n",
       "      <td>2</td>\n",
       "      <td>yes</td>\n",
       "      <td>yes</td>\n",
       "      <td>unknown</td>\n",
       "      <td>5</td>\n",
       "      <td>may</td>\n",
       "      <td>76</td>\n",
       "      <td>1</td>\n",
       "      <td>-1</td>\n",
       "      <td>0</td>\n",
       "      <td>unknown</td>\n",
       "      <td>no</td>\n",
       "    </tr>\n",
       "    <tr>\n",
       "      <th>3</th>\n",
       "      <td>47</td>\n",
       "      <td>blue-collar</td>\n",
       "      <td>married</td>\n",
       "      <td>unknown</td>\n",
       "      <td>no</td>\n",
       "      <td>1506</td>\n",
       "      <td>yes</td>\n",
       "      <td>no</td>\n",
       "      <td>unknown</td>\n",
       "      <td>5</td>\n",
       "      <td>may</td>\n",
       "      <td>92</td>\n",
       "      <td>1</td>\n",
       "      <td>-1</td>\n",
       "      <td>0</td>\n",
       "      <td>unknown</td>\n",
       "      <td>no</td>\n",
       "    </tr>\n",
       "    <tr>\n",
       "      <th>4</th>\n",
       "      <td>33</td>\n",
       "      <td>unknown</td>\n",
       "      <td>single</td>\n",
       "      <td>unknown</td>\n",
       "      <td>no</td>\n",
       "      <td>1</td>\n",
       "      <td>no</td>\n",
       "      <td>no</td>\n",
       "      <td>unknown</td>\n",
       "      <td>5</td>\n",
       "      <td>may</td>\n",
       "      <td>198</td>\n",
       "      <td>1</td>\n",
       "      <td>-1</td>\n",
       "      <td>0</td>\n",
       "      <td>unknown</td>\n",
       "      <td>no</td>\n",
       "    </tr>\n",
       "  </tbody>\n",
       "</table>\n",
       "</div>"
      ],
      "text/plain": [
       "   age           job  marital  education default  balance housing loan  \\\n",
       "0   58    management  married   tertiary      no     2143     yes   no   \n",
       "1   44    technician   single  secondary      no       29     yes   no   \n",
       "2   33  entrepreneur  married  secondary      no        2     yes  yes   \n",
       "3   47   blue-collar  married    unknown      no     1506     yes   no   \n",
       "4   33       unknown   single    unknown      no        1      no   no   \n",
       "\n",
       "   contact  day month  duration  campaign  pdays  previous poutcome   y  \n",
       "0  unknown    5   may       261         1     -1         0  unknown  no  \n",
       "1  unknown    5   may       151         1     -1         0  unknown  no  \n",
       "2  unknown    5   may        76         1     -1         0  unknown  no  \n",
       "3  unknown    5   may        92         1     -1         0  unknown  no  \n",
       "4  unknown    5   may       198         1     -1         0  unknown  no  "
      ]
     },
     "execution_count": 5,
     "metadata": {},
     "output_type": "execute_result"
    }
   ],
   "source": [
    "data.head()"
   ]
  },
  {
   "cell_type": "markdown",
   "id": "1ef510c6",
   "metadata": {},
   "source": [
    "###### Overall data summaries"
   ]
  },
  {
   "cell_type": "code",
   "execution_count": 6,
   "id": "7acd60fc",
   "metadata": {
    "ExecuteTime": {
     "end_time": "2023-04-11T05:01:51.381790Z",
     "start_time": "2023-04-11T05:01:51.196324Z"
    }
   },
   "outputs": [
    {
     "data": {
      "text/html": [
       "<div>\n",
       "<style scoped>\n",
       "    .dataframe tbody tr th:only-of-type {\n",
       "        vertical-align: middle;\n",
       "    }\n",
       "\n",
       "    .dataframe tbody tr th {\n",
       "        vertical-align: top;\n",
       "    }\n",
       "\n",
       "    .dataframe thead th {\n",
       "        text-align: right;\n",
       "    }\n",
       "</style>\n",
       "<table border=\"1\" class=\"dataframe\">\n",
       "  <thead>\n",
       "    <tr style=\"text-align: right;\">\n",
       "      <th></th>\n",
       "      <th>age</th>\n",
       "      <th>job</th>\n",
       "      <th>marital</th>\n",
       "      <th>education</th>\n",
       "      <th>default</th>\n",
       "      <th>balance</th>\n",
       "      <th>housing</th>\n",
       "      <th>loan</th>\n",
       "      <th>contact</th>\n",
       "      <th>day</th>\n",
       "      <th>month</th>\n",
       "      <th>duration</th>\n",
       "      <th>campaign</th>\n",
       "      <th>pdays</th>\n",
       "      <th>previous</th>\n",
       "      <th>poutcome</th>\n",
       "      <th>y</th>\n",
       "    </tr>\n",
       "  </thead>\n",
       "  <tbody>\n",
       "    <tr>\n",
       "      <th>count</th>\n",
       "      <td>45211.000000</td>\n",
       "      <td>45211</td>\n",
       "      <td>45211</td>\n",
       "      <td>45211</td>\n",
       "      <td>45211</td>\n",
       "      <td>45211.000000</td>\n",
       "      <td>45211</td>\n",
       "      <td>45211</td>\n",
       "      <td>45211</td>\n",
       "      <td>45211.000000</td>\n",
       "      <td>45211</td>\n",
       "      <td>45211.000000</td>\n",
       "      <td>45211.000000</td>\n",
       "      <td>45211.000000</td>\n",
       "      <td>45211.000000</td>\n",
       "      <td>45211</td>\n",
       "      <td>45211</td>\n",
       "    </tr>\n",
       "    <tr>\n",
       "      <th>unique</th>\n",
       "      <td>NaN</td>\n",
       "      <td>12</td>\n",
       "      <td>3</td>\n",
       "      <td>4</td>\n",
       "      <td>2</td>\n",
       "      <td>NaN</td>\n",
       "      <td>2</td>\n",
       "      <td>2</td>\n",
       "      <td>3</td>\n",
       "      <td>NaN</td>\n",
       "      <td>12</td>\n",
       "      <td>NaN</td>\n",
       "      <td>NaN</td>\n",
       "      <td>NaN</td>\n",
       "      <td>NaN</td>\n",
       "      <td>4</td>\n",
       "      <td>2</td>\n",
       "    </tr>\n",
       "    <tr>\n",
       "      <th>top</th>\n",
       "      <td>NaN</td>\n",
       "      <td>blue-collar</td>\n",
       "      <td>married</td>\n",
       "      <td>secondary</td>\n",
       "      <td>no</td>\n",
       "      <td>NaN</td>\n",
       "      <td>yes</td>\n",
       "      <td>no</td>\n",
       "      <td>cellular</td>\n",
       "      <td>NaN</td>\n",
       "      <td>may</td>\n",
       "      <td>NaN</td>\n",
       "      <td>NaN</td>\n",
       "      <td>NaN</td>\n",
       "      <td>NaN</td>\n",
       "      <td>unknown</td>\n",
       "      <td>no</td>\n",
       "    </tr>\n",
       "    <tr>\n",
       "      <th>freq</th>\n",
       "      <td>NaN</td>\n",
       "      <td>9732</td>\n",
       "      <td>27214</td>\n",
       "      <td>23202</td>\n",
       "      <td>44396</td>\n",
       "      <td>NaN</td>\n",
       "      <td>25130</td>\n",
       "      <td>37967</td>\n",
       "      <td>29285</td>\n",
       "      <td>NaN</td>\n",
       "      <td>13766</td>\n",
       "      <td>NaN</td>\n",
       "      <td>NaN</td>\n",
       "      <td>NaN</td>\n",
       "      <td>NaN</td>\n",
       "      <td>36959</td>\n",
       "      <td>39922</td>\n",
       "    </tr>\n",
       "    <tr>\n",
       "      <th>mean</th>\n",
       "      <td>40.936210</td>\n",
       "      <td>NaN</td>\n",
       "      <td>NaN</td>\n",
       "      <td>NaN</td>\n",
       "      <td>NaN</td>\n",
       "      <td>1362.272058</td>\n",
       "      <td>NaN</td>\n",
       "      <td>NaN</td>\n",
       "      <td>NaN</td>\n",
       "      <td>15.806419</td>\n",
       "      <td>NaN</td>\n",
       "      <td>258.163080</td>\n",
       "      <td>2.763841</td>\n",
       "      <td>40.197828</td>\n",
       "      <td>0.580323</td>\n",
       "      <td>NaN</td>\n",
       "      <td>NaN</td>\n",
       "    </tr>\n",
       "    <tr>\n",
       "      <th>std</th>\n",
       "      <td>10.618762</td>\n",
       "      <td>NaN</td>\n",
       "      <td>NaN</td>\n",
       "      <td>NaN</td>\n",
       "      <td>NaN</td>\n",
       "      <td>3044.765829</td>\n",
       "      <td>NaN</td>\n",
       "      <td>NaN</td>\n",
       "      <td>NaN</td>\n",
       "      <td>8.322476</td>\n",
       "      <td>NaN</td>\n",
       "      <td>257.527812</td>\n",
       "      <td>3.098021</td>\n",
       "      <td>100.128746</td>\n",
       "      <td>2.303441</td>\n",
       "      <td>NaN</td>\n",
       "      <td>NaN</td>\n",
       "    </tr>\n",
       "    <tr>\n",
       "      <th>min</th>\n",
       "      <td>18.000000</td>\n",
       "      <td>NaN</td>\n",
       "      <td>NaN</td>\n",
       "      <td>NaN</td>\n",
       "      <td>NaN</td>\n",
       "      <td>-8019.000000</td>\n",
       "      <td>NaN</td>\n",
       "      <td>NaN</td>\n",
       "      <td>NaN</td>\n",
       "      <td>1.000000</td>\n",
       "      <td>NaN</td>\n",
       "      <td>0.000000</td>\n",
       "      <td>1.000000</td>\n",
       "      <td>-1.000000</td>\n",
       "      <td>0.000000</td>\n",
       "      <td>NaN</td>\n",
       "      <td>NaN</td>\n",
       "    </tr>\n",
       "    <tr>\n",
       "      <th>25%</th>\n",
       "      <td>33.000000</td>\n",
       "      <td>NaN</td>\n",
       "      <td>NaN</td>\n",
       "      <td>NaN</td>\n",
       "      <td>NaN</td>\n",
       "      <td>72.000000</td>\n",
       "      <td>NaN</td>\n",
       "      <td>NaN</td>\n",
       "      <td>NaN</td>\n",
       "      <td>8.000000</td>\n",
       "      <td>NaN</td>\n",
       "      <td>103.000000</td>\n",
       "      <td>1.000000</td>\n",
       "      <td>-1.000000</td>\n",
       "      <td>0.000000</td>\n",
       "      <td>NaN</td>\n",
       "      <td>NaN</td>\n",
       "    </tr>\n",
       "    <tr>\n",
       "      <th>50%</th>\n",
       "      <td>39.000000</td>\n",
       "      <td>NaN</td>\n",
       "      <td>NaN</td>\n",
       "      <td>NaN</td>\n",
       "      <td>NaN</td>\n",
       "      <td>448.000000</td>\n",
       "      <td>NaN</td>\n",
       "      <td>NaN</td>\n",
       "      <td>NaN</td>\n",
       "      <td>16.000000</td>\n",
       "      <td>NaN</td>\n",
       "      <td>180.000000</td>\n",
       "      <td>2.000000</td>\n",
       "      <td>-1.000000</td>\n",
       "      <td>0.000000</td>\n",
       "      <td>NaN</td>\n",
       "      <td>NaN</td>\n",
       "    </tr>\n",
       "    <tr>\n",
       "      <th>75%</th>\n",
       "      <td>48.000000</td>\n",
       "      <td>NaN</td>\n",
       "      <td>NaN</td>\n",
       "      <td>NaN</td>\n",
       "      <td>NaN</td>\n",
       "      <td>1428.000000</td>\n",
       "      <td>NaN</td>\n",
       "      <td>NaN</td>\n",
       "      <td>NaN</td>\n",
       "      <td>21.000000</td>\n",
       "      <td>NaN</td>\n",
       "      <td>319.000000</td>\n",
       "      <td>3.000000</td>\n",
       "      <td>-1.000000</td>\n",
       "      <td>0.000000</td>\n",
       "      <td>NaN</td>\n",
       "      <td>NaN</td>\n",
       "    </tr>\n",
       "    <tr>\n",
       "      <th>max</th>\n",
       "      <td>95.000000</td>\n",
       "      <td>NaN</td>\n",
       "      <td>NaN</td>\n",
       "      <td>NaN</td>\n",
       "      <td>NaN</td>\n",
       "      <td>102127.000000</td>\n",
       "      <td>NaN</td>\n",
       "      <td>NaN</td>\n",
       "      <td>NaN</td>\n",
       "      <td>31.000000</td>\n",
       "      <td>NaN</td>\n",
       "      <td>4918.000000</td>\n",
       "      <td>63.000000</td>\n",
       "      <td>871.000000</td>\n",
       "      <td>275.000000</td>\n",
       "      <td>NaN</td>\n",
       "      <td>NaN</td>\n",
       "    </tr>\n",
       "  </tbody>\n",
       "</table>\n",
       "</div>"
      ],
      "text/plain": [
       "                 age          job  marital  education default        balance  \\\n",
       "count   45211.000000        45211    45211      45211   45211   45211.000000   \n",
       "unique           NaN           12        3          4       2            NaN   \n",
       "top              NaN  blue-collar  married  secondary      no            NaN   \n",
       "freq             NaN         9732    27214      23202   44396            NaN   \n",
       "mean       40.936210          NaN      NaN        NaN     NaN    1362.272058   \n",
       "std        10.618762          NaN      NaN        NaN     NaN    3044.765829   \n",
       "min        18.000000          NaN      NaN        NaN     NaN   -8019.000000   \n",
       "25%        33.000000          NaN      NaN        NaN     NaN      72.000000   \n",
       "50%        39.000000          NaN      NaN        NaN     NaN     448.000000   \n",
       "75%        48.000000          NaN      NaN        NaN     NaN    1428.000000   \n",
       "max        95.000000          NaN      NaN        NaN     NaN  102127.000000   \n",
       "\n",
       "       housing   loan   contact           day  month      duration  \\\n",
       "count    45211  45211     45211  45211.000000  45211  45211.000000   \n",
       "unique       2      2         3           NaN     12           NaN   \n",
       "top        yes     no  cellular           NaN    may           NaN   \n",
       "freq     25130  37967     29285           NaN  13766           NaN   \n",
       "mean       NaN    NaN       NaN     15.806419    NaN    258.163080   \n",
       "std        NaN    NaN       NaN      8.322476    NaN    257.527812   \n",
       "min        NaN    NaN       NaN      1.000000    NaN      0.000000   \n",
       "25%        NaN    NaN       NaN      8.000000    NaN    103.000000   \n",
       "50%        NaN    NaN       NaN     16.000000    NaN    180.000000   \n",
       "75%        NaN    NaN       NaN     21.000000    NaN    319.000000   \n",
       "max        NaN    NaN       NaN     31.000000    NaN   4918.000000   \n",
       "\n",
       "            campaign         pdays      previous poutcome      y  \n",
       "count   45211.000000  45211.000000  45211.000000    45211  45211  \n",
       "unique           NaN           NaN           NaN        4      2  \n",
       "top              NaN           NaN           NaN  unknown     no  \n",
       "freq             NaN           NaN           NaN    36959  39922  \n",
       "mean        2.763841     40.197828      0.580323      NaN    NaN  \n",
       "std         3.098021    100.128746      2.303441      NaN    NaN  \n",
       "min         1.000000     -1.000000      0.000000      NaN    NaN  \n",
       "25%         1.000000     -1.000000      0.000000      NaN    NaN  \n",
       "50%         2.000000     -1.000000      0.000000      NaN    NaN  \n",
       "75%         3.000000     -1.000000      0.000000      NaN    NaN  \n",
       "max        63.000000    871.000000    275.000000      NaN    NaN  "
      ]
     },
     "execution_count": 6,
     "metadata": {},
     "output_type": "execute_result"
    }
   ],
   "source": [
    "data.describe(include = 'all')"
   ]
  },
  {
   "cell_type": "code",
   "execution_count": 7,
   "id": "2e60a079",
   "metadata": {
    "ExecuteTime": {
     "end_time": "2023-04-11T05:01:51.396850Z",
     "start_time": "2023-04-11T05:01:51.389354Z"
    }
   },
   "outputs": [
    {
     "data": {
      "text/plain": [
       "(45211, 17)"
      ]
     },
     "execution_count": 7,
     "metadata": {},
     "output_type": "execute_result"
    }
   ],
   "source": [
    "data.shape"
   ]
  },
  {
   "cell_type": "code",
   "execution_count": 8,
   "id": "d0bada18",
   "metadata": {
    "ExecuteTime": {
     "end_time": "2023-04-11T05:01:51.474325Z",
     "start_time": "2023-04-11T05:01:51.445231Z"
    }
   },
   "outputs": [
    {
     "data": {
      "text/html": [
       "<div>\n",
       "<style scoped>\n",
       "    .dataframe tbody tr th:only-of-type {\n",
       "        vertical-align: middle;\n",
       "    }\n",
       "\n",
       "    .dataframe tbody tr th {\n",
       "        vertical-align: top;\n",
       "    }\n",
       "\n",
       "    .dataframe thead th {\n",
       "        text-align: right;\n",
       "    }\n",
       "</style>\n",
       "<table border=\"1\" class=\"dataframe\">\n",
       "  <thead>\n",
       "    <tr style=\"text-align: right;\">\n",
       "      <th></th>\n",
       "      <th>Variable</th>\n",
       "      <th>DataType</th>\n",
       "    </tr>\n",
       "  </thead>\n",
       "  <tbody>\n",
       "    <tr>\n",
       "      <th>age</th>\n",
       "      <td>age</td>\n",
       "      <td>int64</td>\n",
       "    </tr>\n",
       "    <tr>\n",
       "      <th>job</th>\n",
       "      <td>job</td>\n",
       "      <td>object</td>\n",
       "    </tr>\n",
       "    <tr>\n",
       "      <th>marital</th>\n",
       "      <td>marital</td>\n",
       "      <td>object</td>\n",
       "    </tr>\n",
       "    <tr>\n",
       "      <th>education</th>\n",
       "      <td>education</td>\n",
       "      <td>object</td>\n",
       "    </tr>\n",
       "    <tr>\n",
       "      <th>default</th>\n",
       "      <td>default</td>\n",
       "      <td>object</td>\n",
       "    </tr>\n",
       "    <tr>\n",
       "      <th>balance</th>\n",
       "      <td>balance</td>\n",
       "      <td>int64</td>\n",
       "    </tr>\n",
       "    <tr>\n",
       "      <th>housing</th>\n",
       "      <td>housing</td>\n",
       "      <td>object</td>\n",
       "    </tr>\n",
       "    <tr>\n",
       "      <th>loan</th>\n",
       "      <td>loan</td>\n",
       "      <td>object</td>\n",
       "    </tr>\n",
       "    <tr>\n",
       "      <th>contact</th>\n",
       "      <td>contact</td>\n",
       "      <td>object</td>\n",
       "    </tr>\n",
       "    <tr>\n",
       "      <th>day</th>\n",
       "      <td>day</td>\n",
       "      <td>int64</td>\n",
       "    </tr>\n",
       "    <tr>\n",
       "      <th>month</th>\n",
       "      <td>month</td>\n",
       "      <td>object</td>\n",
       "    </tr>\n",
       "    <tr>\n",
       "      <th>duration</th>\n",
       "      <td>duration</td>\n",
       "      <td>int64</td>\n",
       "    </tr>\n",
       "    <tr>\n",
       "      <th>campaign</th>\n",
       "      <td>campaign</td>\n",
       "      <td>int64</td>\n",
       "    </tr>\n",
       "    <tr>\n",
       "      <th>pdays</th>\n",
       "      <td>pdays</td>\n",
       "      <td>int64</td>\n",
       "    </tr>\n",
       "    <tr>\n",
       "      <th>previous</th>\n",
       "      <td>previous</td>\n",
       "      <td>int64</td>\n",
       "    </tr>\n",
       "    <tr>\n",
       "      <th>poutcome</th>\n",
       "      <td>poutcome</td>\n",
       "      <td>object</td>\n",
       "    </tr>\n",
       "    <tr>\n",
       "      <th>y</th>\n",
       "      <td>y</td>\n",
       "      <td>object</td>\n",
       "    </tr>\n",
       "  </tbody>\n",
       "</table>\n",
       "</div>"
      ],
      "text/plain": [
       "            Variable DataType\n",
       "age              age    int64\n",
       "job              job   object\n",
       "marital      marital   object\n",
       "education  education   object\n",
       "default      default   object\n",
       "balance      balance    int64\n",
       "housing      housing   object\n",
       "loan            loan   object\n",
       "contact      contact   object\n",
       "day              day    int64\n",
       "month          month   object\n",
       "duration    duration    int64\n",
       "campaign    campaign    int64\n",
       "pdays          pdays    int64\n",
       "previous    previous    int64\n",
       "poutcome    poutcome   object\n",
       "y                  y   object"
      ]
     },
     "execution_count": 8,
     "metadata": {},
     "output_type": "execute_result"
    }
   ],
   "source": [
    "dtypeData = pd.DataFrame({'Variable': data.dtypes.index, 'DataType': data.dtypes})\n",
    "dtypeData"
   ]
  },
  {
   "cell_type": "code",
   "execution_count": 9,
   "id": "82d857b9",
   "metadata": {
    "ExecuteTime": {
     "end_time": "2023-04-11T05:01:51.943544Z",
     "start_time": "2023-04-11T05:01:51.893337Z"
    }
   },
   "outputs": [],
   "source": [
    "numericFields = dtypeData[dtypeData['DataType'] == 'int64']['Variable']\n",
    "categoricalFields = dtypeData[dtypeData['DataType'] == 'object']['Variable']"
   ]
  },
  {
   "cell_type": "markdown",
   "id": "e9b93f81",
   "metadata": {},
   "source": [
    "<div style='padding: 5px; background-color: rgb(0, 128, 128)'> Univariate Distribution Analysis - <b> Independent Variable </b></div>"
   ]
  },
  {
   "cell_type": "markdown",
   "id": "dbb708d2",
   "metadata": {},
   "source": [
    "###### Numerical Variables"
   ]
  },
  {
   "cell_type": "code",
   "execution_count": 9,
   "id": "2e9345b7",
   "metadata": {
    "ExecuteTime": {
     "end_time": "2023-04-03T05:18:17.005237Z",
     "start_time": "2023-04-03T05:18:15.577766Z"
    }
   },
   "outputs": [
    {
     "name": "stdout",
     "output_type": "stream",
     "text": [
      "********************age********************\n"
     ]
    },
    {
     "data": {
      "image/png": "[encoded data removed]",
      "text/plain": [
       "<Figure size 720x360 with 1 Axes>"
      ]
     },
     "metadata": {
      "needs_background": "light"
     },
     "output_type": "display_data"
    },
    {
     "name": "stdout",
     "output_type": "stream",
     "text": [
      "********************balance********************\n"
     ]
    },
    {
     "data": {
      "image/png": "[encoded data removed]",
      "text/plain": [
       "<Figure size 720x360 with 1 Axes>"
      ]
     },
     "metadata": {
      "needs_background": "light"
     },
     "output_type": "display_data"
    },
    {
     "name": "stdout",
     "output_type": "stream",
     "text": [
      "********************day********************\n"
     ]
    },
    {
     "data": {
      "image/png": "[encoded data removed]",
      "text/plain": [
       "<Figure size 720x360 with 1 Axes>"
      ]
     },
     "metadata": {
      "needs_background": "light"
     },
     "output_type": "display_data"
    },
    {
     "name": "stdout",
     "output_type": "stream",
     "text": [
      "********************duration********************\n"
     ]
    },
    {
     "data": {
      "image/png": "[encoded data removed]",
      "text/plain": [
       "<Figure size 720x360 with 1 Axes>"
      ]
     },
     "metadata": {
      "needs_background": "light"
     },
     "output_type": "display_data"
    },
    {
     "name": "stdout",
     "output_type": "stream",
     "text": [
      "********************campaign********************\n"
     ]
    },
    {
     "data": {
      "image/png": "[encoded data removed]",
      "text/plain": [
       "<Figure size 720x360 with 1 Axes>"
      ]
     },
     "metadata": {
      "needs_background": "light"
     },
     "output_type": "display_data"
    },
    {
     "name": "stdout",
     "output_type": "stream",
     "text": [
      "********************pdays********************\n"
     ]
    },
    {
     "data": {
      "image/png": "[encoded data removed]",
      "text/plain": [
       "<Figure size 720x360 with 1 Axes>"
      ]
     },
     "metadata": {
      "needs_background": "light"
     },
     "output_type": "display_data"
    },
    {
     "name": "stdout",
     "output_type": "stream",
     "text": [
      "********************previous********************\n"
     ]
    },
    {
     "data": {
      "image/png": "[encoded data removed]",
      "text/plain": [
       "<Figure size 720x360 with 1 Axes>"
      ]
     },
     "metadata": {
      "needs_background": "light"
     },
     "output_type": "display_data"
    }
   ],
   "source": [
    "for i in numericFields:\n",
    "    print(\"*\"*20 + i + \"*\"*20)\n",
    "    data[i].hist(bins=50, figsize=(10, 5), color ='#ca7558')\n",
    "    plt.xlabel(i.upper())\n",
    "    plt.ylabel('COUNT')\n",
    "    plt.show()"
   ]
  },
  {
   "cell_type": "markdown",
   "id": "790e726d",
   "metadata": {},
   "source": [
    "###### Categorical Variables"
   ]
  },
  {
   "cell_type": "code",
   "execution_count": 10,
   "id": "f5a0471d",
   "metadata": {
    "ExecuteTime": {
     "end_time": "2023-04-03T05:18:20.406590Z",
     "start_time": "2023-04-03T05:18:17.013248Z"
    }
   },
   "outputs": [
    {
     "name": "stdout",
     "output_type": "stream",
     "text": [
      "********************job********************\n"
     ]
    },
    {
     "data": {
      "image/png": "[encoded data removed]",
      "text/plain": [
       "<Figure size 432x288 with 1 Axes>"
      ]
     },
     "metadata": {
      "needs_background": "light"
     },
     "output_type": "display_data"
    },
    {
     "name": "stdout",
     "output_type": "stream",
     "text": [
      "********************marital********************\n"
     ]
    },
    {
     "data": {
      "image/png": "[encoded data removed]",
      "text/plain": [
       "<Figure size 432x288 with 1 Axes>"
      ]
     },
     "metadata": {
      "needs_background": "light"
     },
     "output_type": "display_data"
    },
    {
     "name": "stdout",
     "output_type": "stream",
     "text": [
      "********************education********************\n"
     ]
    },
    {
     "data": {
      "image/png": "[encoded data removed]",
      "text/plain": [
       "<Figure size 432x288 with 1 Axes>"
      ]
     },
     "metadata": {
      "needs_background": "light"
     },
     "output_type": "display_data"
    },
    {
     "name": "stdout",
     "output_type": "stream",
     "text": [
      "********************default********************\n"
     ]
    },
    {
     "data": {
      "image/png": "[encoded data removed]",
      "text/plain": [
       "<Figure size 432x288 with 1 Axes>"
      ]
     },
     "metadata": {
      "needs_background": "light"
     },
     "output_type": "display_data"
    },
    {
     "name": "stdout",
     "output_type": "stream",
     "text": [
      "********************housing********************\n"
     ]
    },
    {
     "data": {
      "image/png": "[encoded data removed]",
      "text/plain": [
       "<Figure size 432x288 with 1 Axes>"
      ]
     },
     "metadata": {
      "needs_background": "light"
     },
     "output_type": "display_data"
    },
    {
     "name": "stdout",
     "output_type": "stream",
     "text": [
      "********************loan********************\n"
     ]
    },
    {
     "data": {
      "image/png": "[encoded data removed]",
      "text/plain": [
       "<Figure size 432x288 with 1 Axes>"
      ]
     },
     "metadata": {
      "needs_background": "light"
     },
     "output_type": "display_data"
    },
    {
     "name": "stdout",
     "output_type": "stream",
     "text": [
      "********************contact********************\n"
     ]
    },
    {
     "data": {
      "image/png": "[encoded data removed]",
      "text/plain": [
       "<Figure size 432x288 with 1 Axes>"
      ]
     },
     "metadata": {
      "needs_background": "light"
     },
     "output_type": "display_data"
    },
    {
     "name": "stdout",
     "output_type": "stream",
     "text": [
      "********************month********************\n"
     ]
    },
    {
     "data": {
      "image/png": "[encoded data removed]",
      "text/plain": [
       "<Figure size 432x288 with 1 Axes>"
      ]
     },
     "metadata": {
      "needs_background": "light"
     },
     "output_type": "display_data"
    },
    {
     "name": "stdout",
     "output_type": "stream",
     "text": [
      "********************poutcome********************\n"
     ]
    },
    {
     "data": {
      "image/png": "[encoded data removed]",
      "text/plain": [
       "<Figure size 432x288 with 1 Axes>"
      ]
     },
     "metadata": {
      "needs_background": "light"
     },
     "output_type": "display_data"
    },
    {
     "name": "stdout",
     "output_type": "stream",
     "text": [
      "********************y********************\n"
     ]
    },
    {
     "ename": "KeyError",
     "evalue": "'y'",
     "output_type": "error",
     "traceback": [
      "\u001b[1;31m---------------------------------------------------------------------------\u001b[0m",
      "\u001b[1;31mKeyError\u001b[0m                                  Traceback (most recent call last)",
      "File \u001b[1;32mF:\\lib\\site-packages\\pandas\\core\\indexes\\base.py:3621\u001b[0m, in \u001b[0;36mIndex.get_loc\u001b[1;34m(self, key, method, tolerance)\u001b[0m\n\u001b[0;32m   3620\u001b[0m \u001b[38;5;28;01mtry\u001b[39;00m:\n\u001b[1;32m-> 3621\u001b[0m     \u001b[38;5;28;01mreturn\u001b[39;00m \u001b[38;5;28;43mself\u001b[39;49m\u001b[38;5;241;43m.\u001b[39;49m\u001b[43m_engine\u001b[49m\u001b[38;5;241;43m.\u001b[39;49m\u001b[43mget_loc\u001b[49m\u001b[43m(\u001b[49m\u001b[43mcasted_key\u001b[49m\u001b[43m)\u001b[49m\n\u001b[0;32m   3622\u001b[0m \u001b[38;5;28;01mexcept\u001b[39;00m \u001b[38;5;167;01mKeyError\u001b[39;00m \u001b[38;5;28;01mas\u001b[39;00m err:\n",
      "File \u001b[1;32mF:\\lib\\site-packages\\pandas\\_libs\\index.pyx:136\u001b[0m, in \u001b[0;36mpandas._libs.index.IndexEngine.get_loc\u001b[1;34m()\u001b[0m\n",
      "File \u001b[1;32mF:\\lib\\site-packages\\pandas\\_libs\\index.pyx:163\u001b[0m, in \u001b[0;36mpandas._libs.index.IndexEngine.get_loc\u001b[1;34m()\u001b[0m\n",
      "File \u001b[1;32mpandas\\_libs\\hashtable_class_helper.pxi:5198\u001b[0m, in \u001b[0;36mpandas._libs.hashtable.PyObjectHashTable.get_item\u001b[1;34m()\u001b[0m\n",
      "File \u001b[1;32mpandas\\_libs\\hashtable_class_helper.pxi:5206\u001b[0m, in \u001b[0;36mpandas._libs.hashtable.PyObjectHashTable.get_item\u001b[1;34m()\u001b[0m\n",
      "\u001b[1;31mKeyError\u001b[0m: 'y'",
      "\nThe above exception was the direct cause of the following exception:\n",
      "\u001b[1;31mKeyError\u001b[0m                                  Traceback (most recent call last)",
      "Input \u001b[1;32mIn [10]\u001b[0m, in \u001b[0;36m<cell line: 1>\u001b[1;34m()\u001b[0m\n\u001b[0;32m      2\u001b[0m \u001b[38;5;28mprint\u001b[39m(\u001b[38;5;124m\"\u001b[39m\u001b[38;5;124m*\u001b[39m\u001b[38;5;124m\"\u001b[39m\u001b[38;5;241m*\u001b[39m\u001b[38;5;241m20\u001b[39m \u001b[38;5;241m+\u001b[39m i \u001b[38;5;241m+\u001b[39m \u001b[38;5;124m\"\u001b[39m\u001b[38;5;124m*\u001b[39m\u001b[38;5;124m\"\u001b[39m\u001b[38;5;241m*\u001b[39m\u001b[38;5;241m20\u001b[39m)\n\u001b[0;32m      3\u001b[0m helperdf \u001b[38;5;241m=\u001b[39m data\u001b[38;5;241m.\u001b[39mgroupby([i], as_index \u001b[38;5;241m=\u001b[39m \u001b[38;5;28;01mFalse\u001b[39;00m)\u001b[38;5;241m.\u001b[39mcount()\n\u001b[1;32m----> 4\u001b[0m \u001b[43mhelperdf\u001b[49m\u001b[38;5;241;43m.\u001b[39;49m\u001b[43mplot\u001b[49m\u001b[43m(\u001b[49m\u001b[43mx\u001b[49m\u001b[38;5;241;43m=\u001b[39;49m\u001b[43mi\u001b[49m\u001b[43m,\u001b[49m\u001b[43m \u001b[49m\u001b[43my\u001b[49m\u001b[38;5;241;43m=\u001b[39;49m\u001b[38;5;124;43m'\u001b[39;49m\u001b[38;5;124;43my\u001b[39;49m\u001b[38;5;124;43m'\u001b[39;49m\u001b[43m,\u001b[49m\u001b[43m \u001b[49m\u001b[43mkind\u001b[49m\u001b[43m \u001b[49m\u001b[38;5;241;43m=\u001b[39;49m\u001b[43m \u001b[49m\u001b[38;5;124;43m'\u001b[39;49m\u001b[38;5;124;43mbar\u001b[39;49m\u001b[38;5;124;43m'\u001b[39;49m\u001b[43m,\u001b[49m\u001b[43m \u001b[49m\u001b[43mcolor\u001b[49m\u001b[43m \u001b[49m\u001b[38;5;241;43m=\u001b[39;49m\u001b[38;5;124;43m'\u001b[39;49m\u001b[38;5;124;43m#ca7558\u001b[39;49m\u001b[38;5;124;43m'\u001b[39;49m\u001b[43m)\u001b[49m\n\u001b[0;32m      5\u001b[0m plt\u001b[38;5;241m.\u001b[39mxlabel(i\u001b[38;5;241m.\u001b[39mupper())\n\u001b[0;32m      6\u001b[0m plt\u001b[38;5;241m.\u001b[39mylabel(\u001b[38;5;124m'\u001b[39m\u001b[38;5;124mCount of Customers\u001b[39m\u001b[38;5;124m'\u001b[39m)\n",
      "File \u001b[1;32mF:\\lib\\site-packages\\pandas\\plotting\\_core.py:958\u001b[0m, in \u001b[0;36mPlotAccessor.__call__\u001b[1;34m(self, *args, **kwargs)\u001b[0m\n\u001b[0;32m    955\u001b[0m             \u001b[38;5;28;01mpass\u001b[39;00m\n\u001b[0;32m    957\u001b[0m \u001b[38;5;66;03m# don't overwrite\u001b[39;00m\n\u001b[1;32m--> 958\u001b[0m data \u001b[38;5;241m=\u001b[39m \u001b[43mdata\u001b[49m\u001b[43m[\u001b[49m\u001b[43my\u001b[49m\u001b[43m]\u001b[49m\u001b[38;5;241m.\u001b[39mcopy()\n\u001b[0;32m    960\u001b[0m \u001b[38;5;28;01mif\u001b[39;00m \u001b[38;5;28misinstance\u001b[39m(data, ABCSeries):\n\u001b[0;32m    961\u001b[0m     label_name \u001b[38;5;241m=\u001b[39m label_kw \u001b[38;5;129;01mor\u001b[39;00m y\n",
      "File \u001b[1;32mF:\\lib\\site-packages\\pandas\\core\\frame.py:3505\u001b[0m, in \u001b[0;36mDataFrame.__getitem__\u001b[1;34m(self, key)\u001b[0m\n\u001b[0;32m   3503\u001b[0m \u001b[38;5;28;01mif\u001b[39;00m \u001b[38;5;28mself\u001b[39m\u001b[38;5;241m.\u001b[39mcolumns\u001b[38;5;241m.\u001b[39mnlevels \u001b[38;5;241m>\u001b[39m \u001b[38;5;241m1\u001b[39m:\n\u001b[0;32m   3504\u001b[0m     \u001b[38;5;28;01mreturn\u001b[39;00m \u001b[38;5;28mself\u001b[39m\u001b[38;5;241m.\u001b[39m_getitem_multilevel(key)\n\u001b[1;32m-> 3505\u001b[0m indexer \u001b[38;5;241m=\u001b[39m \u001b[38;5;28;43mself\u001b[39;49m\u001b[38;5;241;43m.\u001b[39;49m\u001b[43mcolumns\u001b[49m\u001b[38;5;241;43m.\u001b[39;49m\u001b[43mget_loc\u001b[49m\u001b[43m(\u001b[49m\u001b[43mkey\u001b[49m\u001b[43m)\u001b[49m\n\u001b[0;32m   3506\u001b[0m \u001b[38;5;28;01mif\u001b[39;00m is_integer(indexer):\n\u001b[0;32m   3507\u001b[0m     indexer \u001b[38;5;241m=\u001b[39m [indexer]\n",
      "File \u001b[1;32mF:\\lib\\site-packages\\pandas\\core\\indexes\\base.py:3623\u001b[0m, in \u001b[0;36mIndex.get_loc\u001b[1;34m(self, key, method, tolerance)\u001b[0m\n\u001b[0;32m   3621\u001b[0m     \u001b[38;5;28;01mreturn\u001b[39;00m \u001b[38;5;28mself\u001b[39m\u001b[38;5;241m.\u001b[39m_engine\u001b[38;5;241m.\u001b[39mget_loc(casted_key)\n\u001b[0;32m   3622\u001b[0m \u001b[38;5;28;01mexcept\u001b[39;00m \u001b[38;5;167;01mKeyError\u001b[39;00m \u001b[38;5;28;01mas\u001b[39;00m err:\n\u001b[1;32m-> 3623\u001b[0m     \u001b[38;5;28;01mraise\u001b[39;00m \u001b[38;5;167;01mKeyError\u001b[39;00m(key) \u001b[38;5;28;01mfrom\u001b[39;00m \u001b[38;5;21;01merr\u001b[39;00m\n\u001b[0;32m   3624\u001b[0m \u001b[38;5;28;01mexcept\u001b[39;00m \u001b[38;5;167;01mTypeError\u001b[39;00m:\n\u001b[0;32m   3625\u001b[0m     \u001b[38;5;66;03m# If we have a listlike key, _check_indexing_error will raise\u001b[39;00m\n\u001b[0;32m   3626\u001b[0m     \u001b[38;5;66;03m#  InvalidIndexError. Otherwise we fall through and re-raise\u001b[39;00m\n\u001b[0;32m   3627\u001b[0m     \u001b[38;5;66;03m#  the TypeError.\u001b[39;00m\n\u001b[0;32m   3628\u001b[0m     \u001b[38;5;28mself\u001b[39m\u001b[38;5;241m.\u001b[39m_check_indexing_error(key)\n",
      "\u001b[1;31mKeyError\u001b[0m: 'y'"
     ]
    }
   ],
   "source": [
    "for i in categoricalFields:\n",
    "    print(\"*\"*20 + i + \"*\"*20)\n",
    "    helperdf = data.groupby([i], as_index = False).count()\n",
    "    helperdf.plot(x=i, y='y', kind = 'bar', color ='#ca7558')\n",
    "    plt.xlabel(i.upper())\n",
    "    plt.ylabel('Count of Customers')\n",
    "    plt.show()"
   ]
  },
  {
   "cell_type": "markdown",
   "id": "357baf08",
   "metadata": {
    "ExecuteTime": {
     "end_time": "2023-02-12T06:39:16.928895Z",
     "start_time": "2023-02-12T06:39:16.921857Z"
    }
   },
   "source": [
    "<div style='padding: 5px; background-color: rgb(0, 128, 128)'> Univariate Distribution Analysis - <b> Dependent Variable </b></div>"
   ]
  },
  {
   "cell_type": "code",
   "execution_count": null,
   "id": "329778d7",
   "metadata": {
    "ExecuteTime": {
     "end_time": "2023-04-03T05:18:20.408556Z",
     "start_time": "2023-04-03T05:18:20.408556Z"
    }
   },
   "outputs": [],
   "source": [
    "helperdf = data.groupby(['y'], as_index = False).count()[['y', 'education']]\n",
    "helperdf.columns = ['y', 'record_count']\n",
    "helperdf['Prec'] = helperdf['record_count']/helperdf['record_count'].sum()\n",
    "helperdf.plot(x='y', y='record_count', kind = 'bar', color ='#ca7558')\n",
    "plt.show()"
   ]
  },
  {
   "cell_type": "code",
   "execution_count": null,
   "id": "91ccfda9",
   "metadata": {
    "ExecuteTime": {
     "end_time": "2023-04-03T05:18:20.410556Z",
     "start_time": "2023-04-03T05:18:20.410556Z"
    }
   },
   "outputs": [],
   "source": [
    "helperdf"
   ]
  },
  {
   "cell_type": "markdown",
   "id": "623d9097",
   "metadata": {},
   "source": [
    "<div style='padding: 5px; background-color: rgb(0, 128, 128)'> Correlations vs VIF </div>"
   ]
  },
  {
   "cell_type": "markdown",
   "id": "ad862a1a",
   "metadata": {},
   "source": [
    "###### Correlation"
   ]
  },
  {
   "cell_type": "code",
   "execution_count": null,
   "id": "ef5c0f15",
   "metadata": {
    "ExecuteTime": {
     "end_time": "2023-04-03T05:18:20.411569Z",
     "start_time": "2023-04-03T05:18:20.411569Z"
    }
   },
   "outputs": [],
   "source": [
    "X = pd.get_dummies(data, drop_first=True)\n",
    "sns.heatmap(X.corr())\n",
    "X.corr().to_excel('../outputs/correlations_12022023.xlsx')"
   ]
  },
  {
   "cell_type": "markdown",
   "id": "4309bca7",
   "metadata": {},
   "source": [
    "###### VIF"
   ]
  },
  {
   "cell_type": "code",
   "execution_count": null,
   "id": "de88d454",
   "metadata": {
    "ExecuteTime": {
     "end_time": "2023-04-03T05:18:20.412556Z",
     "start_time": "2023-04-03T05:18:20.412556Z"
    }
   },
   "outputs": [],
   "source": [
    "vifDf = pd.DataFrame()\n",
    "X = data[list(set(data.columns)-set(['y']))]\n",
    "X = pd.get_dummies(X, drop_first=True)\n",
    "vifDf['Column'] = X.columns\n",
    "vifDf['vif'] = [variance_inflation_factor(X, i) for i in range(0, len(X.columns))]"
   ]
  },
  {
   "cell_type": "code",
   "execution_count": null,
   "id": "aab4f46d",
   "metadata": {
    "ExecuteTime": {
     "end_time": "2023-04-03T05:18:20.414555Z",
     "start_time": "2023-04-03T05:18:20.414555Z"
    }
   },
   "outputs": [],
   "source": [
    "vifDf[vifDf['vif'] >= 3].sort_values(['vif'], ascending = False).to_csv('corr.csv')"
   ]
  },
  {
   "cell_type": "markdown",
   "id": "73c0f645",
   "metadata": {},
   "source": [
    "<div style='padding: 5px; background-color: rgb(0, 128, 128)'> Bi-variate Analysis </div>"
   ]
  },
  {
   "cell_type": "markdown",
   "id": "86bd02e0",
   "metadata": {},
   "source": [
    "- Understanding the relationship of number (w.r.t averages) and non-numerical (w.r.t frequency) variables with target variable"
   ]
  },
  {
   "cell_type": "markdown",
   "id": "0142a4f5",
   "metadata": {},
   "source": [
    "###### Numerical Fields"
   ]
  },
  {
   "cell_type": "code",
   "execution_count": null,
   "id": "fb235cea",
   "metadata": {
    "ExecuteTime": {
     "end_time": "2023-04-03T05:18:20.416555Z",
     "start_time": "2023-04-03T05:18:20.416555Z"
    }
   },
   "outputs": [],
   "source": [
    "for i in numericFields:\n",
    "    print('*'*20 + i + '*'*20)\n",
    "    data.groupby(['y'], as_index=False).mean()[[i, 'y']].plot(x='y', y=i, kind = 'bar', color ='#ca7558')\n",
    "    plt.xlabel('y')\n",
    "    plt.ylabel('Percentage of Positive Classes (y=1)')\n",
    "    plt.show()"
   ]
  },
  {
   "cell_type": "markdown",
   "id": "a183fdab",
   "metadata": {},
   "source": [
    "###### Non-numerical Fields"
   ]
  },
  {
   "cell_type": "code",
   "execution_count": null,
   "id": "2ea6f84a",
   "metadata": {
    "ExecuteTime": {
     "end_time": "2023-04-03T05:18:20.417556Z",
     "start_time": "2023-04-03T05:18:20.417556Z"
    }
   },
   "outputs": [],
   "source": [
    "for i in categoricalFields:\n",
    "    print('*'*20 + i + '*'*20)\n",
    "    data['y_flag'] = [1 if i == 'yes' else 0 for i in data['y']]\n",
    "    data.groupby([i], as_index=False).mean()[[i, 'y_flag']].plot(x=i, y='y_flag', kind = 'bar', color ='#ca7558')\n",
    "    plt.show()"
   ]
  },
  {
   "cell_type": "markdown",
   "id": "49ee84b5",
   "metadata": {},
   "source": [
    "<div style='padding: 5px; background-color: rgb(0, 128, 128)'> Missing Values </div>"
   ]
  },
  {
   "cell_type": "code",
   "execution_count": null,
   "id": "653d4131",
   "metadata": {
    "ExecuteTime": {
     "end_time": "2023-04-03T05:18:20.419555Z",
     "start_time": "2023-04-03T05:18:20.419555Z"
    }
   },
   "outputs": [],
   "source": [
    "missingDf = pd.DataFrame({'Variable': data.isna().sum().index, 'Value': data.isna().sum(), 'Precentage': data.isna().sum()/data.shape[0]})\n",
    "missingDf"
   ]
  },
  {
   "cell_type": "markdown",
   "id": "5836b3f7",
   "metadata": {},
   "source": [
    "###### Target Variable class imbalance"
   ]
  },
  {
   "cell_type": "code",
   "execution_count": null,
   "id": "7da0db71",
   "metadata": {
    "ExecuteTime": {
     "end_time": "2023-04-03T05:18:20.420555Z",
     "start_time": "2023-04-03T05:18:20.420555Z"
    }
   },
   "outputs": [],
   "source": [
    "data.groupby(['y'], as_index = False).count()[['y', 'job']].plot(kind = 'pie', y = 'job', autopct = \"%.2f%%\", colors = ['#ca7558', '#008080'] )\n",
    "plt.ylabel('y')\n",
    "plt.show()"
   ]
  },
  {
   "cell_type": "markdown",
   "id": "447c4980",
   "metadata": {
    "ExecuteTime": {
     "end_time": "2023-03-11T15:31:25.448447Z",
     "start_time": "2023-03-11T15:31:25.430448Z"
    }
   },
   "source": [
    "<div style='padding: 5px; background-color: rgb(0, 128, 128); color: white'> <h3> Data Preparation </h3> </div>"
   ]
  },
  {
   "cell_type": "markdown",
   "id": "68b16540",
   "metadata": {},
   "source": [
    "###### Outlier Treatment"
   ]
  },
  {
   "cell_type": "code",
   "execution_count": 10,
   "id": "4fa7b1b2",
   "metadata": {
    "ExecuteTime": {
     "end_time": "2023-04-11T05:02:00.907782Z",
     "start_time": "2023-04-11T05:02:00.879867Z"
    }
   },
   "outputs": [
    {
     "data": {
      "text/html": [
       "<div>\n",
       "<style scoped>\n",
       "    .dataframe tbody tr th:only-of-type {\n",
       "        vertical-align: middle;\n",
       "    }\n",
       "\n",
       "    .dataframe tbody tr th {\n",
       "        vertical-align: top;\n",
       "    }\n",
       "\n",
       "    .dataframe thead th {\n",
       "        text-align: right;\n",
       "    }\n",
       "</style>\n",
       "<table border=\"1\" class=\"dataframe\">\n",
       "  <thead>\n",
       "    <tr style=\"text-align: right;\">\n",
       "      <th></th>\n",
       "      <th>age</th>\n",
       "      <th>job</th>\n",
       "      <th>marital</th>\n",
       "      <th>education</th>\n",
       "      <th>default</th>\n",
       "      <th>balance</th>\n",
       "      <th>housing</th>\n",
       "      <th>loan</th>\n",
       "      <th>contact</th>\n",
       "      <th>day</th>\n",
       "      <th>month</th>\n",
       "      <th>duration</th>\n",
       "      <th>campaign</th>\n",
       "      <th>pdays</th>\n",
       "      <th>previous</th>\n",
       "      <th>poutcome</th>\n",
       "      <th>y</th>\n",
       "    </tr>\n",
       "  </thead>\n",
       "  <tbody>\n",
       "    <tr>\n",
       "      <th>0</th>\n",
       "      <td>58</td>\n",
       "      <td>management</td>\n",
       "      <td>married</td>\n",
       "      <td>tertiary</td>\n",
       "      <td>no</td>\n",
       "      <td>2143</td>\n",
       "      <td>yes</td>\n",
       "      <td>no</td>\n",
       "      <td>unknown</td>\n",
       "      <td>5</td>\n",
       "      <td>may</td>\n",
       "      <td>261</td>\n",
       "      <td>1</td>\n",
       "      <td>-1</td>\n",
       "      <td>0</td>\n",
       "      <td>unknown</td>\n",
       "      <td>no</td>\n",
       "    </tr>\n",
       "    <tr>\n",
       "      <th>1</th>\n",
       "      <td>44</td>\n",
       "      <td>technician</td>\n",
       "      <td>single</td>\n",
       "      <td>secondary</td>\n",
       "      <td>no</td>\n",
       "      <td>29</td>\n",
       "      <td>yes</td>\n",
       "      <td>no</td>\n",
       "      <td>unknown</td>\n",
       "      <td>5</td>\n",
       "      <td>may</td>\n",
       "      <td>151</td>\n",
       "      <td>1</td>\n",
       "      <td>-1</td>\n",
       "      <td>0</td>\n",
       "      <td>unknown</td>\n",
       "      <td>no</td>\n",
       "    </tr>\n",
       "    <tr>\n",
       "      <th>2</th>\n",
       "      <td>33</td>\n",
       "      <td>entrepreneur</td>\n",
       "      <td>married</td>\n",
       "      <td>secondary</td>\n",
       "      <td>no</td>\n",
       "      <td>2</td>\n",
       "      <td>yes</td>\n",
       "      <td>yes</td>\n",
       "      <td>unknown</td>\n",
       "      <td>5</td>\n",
       "      <td>may</td>\n",
       "      <td>76</td>\n",
       "      <td>1</td>\n",
       "      <td>-1</td>\n",
       "      <td>0</td>\n",
       "      <td>unknown</td>\n",
       "      <td>no</td>\n",
       "    </tr>\n",
       "    <tr>\n",
       "      <th>3</th>\n",
       "      <td>47</td>\n",
       "      <td>blue-collar</td>\n",
       "      <td>married</td>\n",
       "      <td>unknown</td>\n",
       "      <td>no</td>\n",
       "      <td>1506</td>\n",
       "      <td>yes</td>\n",
       "      <td>no</td>\n",
       "      <td>unknown</td>\n",
       "      <td>5</td>\n",
       "      <td>may</td>\n",
       "      <td>92</td>\n",
       "      <td>1</td>\n",
       "      <td>-1</td>\n",
       "      <td>0</td>\n",
       "      <td>unknown</td>\n",
       "      <td>no</td>\n",
       "    </tr>\n",
       "    <tr>\n",
       "      <th>4</th>\n",
       "      <td>33</td>\n",
       "      <td>unknown</td>\n",
       "      <td>single</td>\n",
       "      <td>unknown</td>\n",
       "      <td>no</td>\n",
       "      <td>1</td>\n",
       "      <td>no</td>\n",
       "      <td>no</td>\n",
       "      <td>unknown</td>\n",
       "      <td>5</td>\n",
       "      <td>may</td>\n",
       "      <td>198</td>\n",
       "      <td>1</td>\n",
       "      <td>-1</td>\n",
       "      <td>0</td>\n",
       "      <td>unknown</td>\n",
       "      <td>no</td>\n",
       "    </tr>\n",
       "  </tbody>\n",
       "</table>\n",
       "</div>"
      ],
      "text/plain": [
       "   age           job  marital  education default  balance housing loan  \\\n",
       "0   58    management  married   tertiary      no     2143     yes   no   \n",
       "1   44    technician   single  secondary      no       29     yes   no   \n",
       "2   33  entrepreneur  married  secondary      no        2     yes  yes   \n",
       "3   47   blue-collar  married    unknown      no     1506     yes   no   \n",
       "4   33       unknown   single    unknown      no        1      no   no   \n",
       "\n",
       "   contact  day month  duration  campaign  pdays  previous poutcome   y  \n",
       "0  unknown    5   may       261         1     -1         0  unknown  no  \n",
       "1  unknown    5   may       151         1     -1         0  unknown  no  \n",
       "2  unknown    5   may        76         1     -1         0  unknown  no  \n",
       "3  unknown    5   may        92         1     -1         0  unknown  no  \n",
       "4  unknown    5   may       198         1     -1         0  unknown  no  "
      ]
     },
     "execution_count": 10,
     "metadata": {},
     "output_type": "execute_result"
    }
   ],
   "source": [
    "data.head()"
   ]
  },
  {
   "cell_type": "code",
   "execution_count": 11,
   "id": "ca2b6e90",
   "metadata": {
    "ExecuteTime": {
     "end_time": "2023-04-11T05:02:01.314627Z",
     "start_time": "2023-04-11T05:02:01.172494Z"
    }
   },
   "outputs": [],
   "source": [
    "data['age_updated'] = [i if i <= 60 else 60 for i in data['age']]\n",
    "data['duration_updated'] = [i if i <= 2000 else 2000 for i in data['duration']]\n",
    "data['balance_updated'] = [i if i <= 40000 else 40000 for i in data['balance']]\n",
    "data['campaign_updated'] = [i if i <= 30 else 30 for i in data['campaign']]"
   ]
  },
  {
   "cell_type": "code",
   "execution_count": 12,
   "id": "0e139291",
   "metadata": {
    "ExecuteTime": {
     "end_time": "2023-04-11T05:02:01.455508Z",
     "start_time": "2023-04-11T05:02:01.417620Z"
    }
   },
   "outputs": [
    {
     "data": {
      "text/html": [
       "<div>\n",
       "<style scoped>\n",
       "    .dataframe tbody tr th:only-of-type {\n",
       "        vertical-align: middle;\n",
       "    }\n",
       "\n",
       "    .dataframe tbody tr th {\n",
       "        vertical-align: top;\n",
       "    }\n",
       "\n",
       "    .dataframe thead th {\n",
       "        text-align: right;\n",
       "    }\n",
       "</style>\n",
       "<table border=\"1\" class=\"dataframe\">\n",
       "  <thead>\n",
       "    <tr style=\"text-align: right;\">\n",
       "      <th></th>\n",
       "      <th>age</th>\n",
       "      <th>job</th>\n",
       "      <th>marital</th>\n",
       "      <th>education</th>\n",
       "      <th>default</th>\n",
       "      <th>balance</th>\n",
       "      <th>housing</th>\n",
       "      <th>loan</th>\n",
       "      <th>contact</th>\n",
       "      <th>day</th>\n",
       "      <th>...</th>\n",
       "      <th>duration</th>\n",
       "      <th>campaign</th>\n",
       "      <th>pdays</th>\n",
       "      <th>previous</th>\n",
       "      <th>poutcome</th>\n",
       "      <th>y</th>\n",
       "      <th>age_updated</th>\n",
       "      <th>duration_updated</th>\n",
       "      <th>balance_updated</th>\n",
       "      <th>campaign_updated</th>\n",
       "    </tr>\n",
       "  </thead>\n",
       "  <tbody>\n",
       "    <tr>\n",
       "      <th>0</th>\n",
       "      <td>58</td>\n",
       "      <td>management</td>\n",
       "      <td>married</td>\n",
       "      <td>tertiary</td>\n",
       "      <td>no</td>\n",
       "      <td>2143</td>\n",
       "      <td>yes</td>\n",
       "      <td>no</td>\n",
       "      <td>unknown</td>\n",
       "      <td>5</td>\n",
       "      <td>...</td>\n",
       "      <td>261</td>\n",
       "      <td>1</td>\n",
       "      <td>-1</td>\n",
       "      <td>0</td>\n",
       "      <td>unknown</td>\n",
       "      <td>no</td>\n",
       "      <td>58</td>\n",
       "      <td>261</td>\n",
       "      <td>2143</td>\n",
       "      <td>1</td>\n",
       "    </tr>\n",
       "    <tr>\n",
       "      <th>1</th>\n",
       "      <td>44</td>\n",
       "      <td>technician</td>\n",
       "      <td>single</td>\n",
       "      <td>secondary</td>\n",
       "      <td>no</td>\n",
       "      <td>29</td>\n",
       "      <td>yes</td>\n",
       "      <td>no</td>\n",
       "      <td>unknown</td>\n",
       "      <td>5</td>\n",
       "      <td>...</td>\n",
       "      <td>151</td>\n",
       "      <td>1</td>\n",
       "      <td>-1</td>\n",
       "      <td>0</td>\n",
       "      <td>unknown</td>\n",
       "      <td>no</td>\n",
       "      <td>44</td>\n",
       "      <td>151</td>\n",
       "      <td>29</td>\n",
       "      <td>1</td>\n",
       "    </tr>\n",
       "    <tr>\n",
       "      <th>2</th>\n",
       "      <td>33</td>\n",
       "      <td>entrepreneur</td>\n",
       "      <td>married</td>\n",
       "      <td>secondary</td>\n",
       "      <td>no</td>\n",
       "      <td>2</td>\n",
       "      <td>yes</td>\n",
       "      <td>yes</td>\n",
       "      <td>unknown</td>\n",
       "      <td>5</td>\n",
       "      <td>...</td>\n",
       "      <td>76</td>\n",
       "      <td>1</td>\n",
       "      <td>-1</td>\n",
       "      <td>0</td>\n",
       "      <td>unknown</td>\n",
       "      <td>no</td>\n",
       "      <td>33</td>\n",
       "      <td>76</td>\n",
       "      <td>2</td>\n",
       "      <td>1</td>\n",
       "    </tr>\n",
       "    <tr>\n",
       "      <th>3</th>\n",
       "      <td>47</td>\n",
       "      <td>blue-collar</td>\n",
       "      <td>married</td>\n",
       "      <td>unknown</td>\n",
       "      <td>no</td>\n",
       "      <td>1506</td>\n",
       "      <td>yes</td>\n",
       "      <td>no</td>\n",
       "      <td>unknown</td>\n",
       "      <td>5</td>\n",
       "      <td>...</td>\n",
       "      <td>92</td>\n",
       "      <td>1</td>\n",
       "      <td>-1</td>\n",
       "      <td>0</td>\n",
       "      <td>unknown</td>\n",
       "      <td>no</td>\n",
       "      <td>47</td>\n",
       "      <td>92</td>\n",
       "      <td>1506</td>\n",
       "      <td>1</td>\n",
       "    </tr>\n",
       "    <tr>\n",
       "      <th>4</th>\n",
       "      <td>33</td>\n",
       "      <td>unknown</td>\n",
       "      <td>single</td>\n",
       "      <td>unknown</td>\n",
       "      <td>no</td>\n",
       "      <td>1</td>\n",
       "      <td>no</td>\n",
       "      <td>no</td>\n",
       "      <td>unknown</td>\n",
       "      <td>5</td>\n",
       "      <td>...</td>\n",
       "      <td>198</td>\n",
       "      <td>1</td>\n",
       "      <td>-1</td>\n",
       "      <td>0</td>\n",
       "      <td>unknown</td>\n",
       "      <td>no</td>\n",
       "      <td>33</td>\n",
       "      <td>198</td>\n",
       "      <td>1</td>\n",
       "      <td>1</td>\n",
       "    </tr>\n",
       "  </tbody>\n",
       "</table>\n",
       "<p>5 rows × 21 columns</p>\n",
       "</div>"
      ],
      "text/plain": [
       "   age           job  marital  education default  balance housing loan  \\\n",
       "0   58    management  married   tertiary      no     2143     yes   no   \n",
       "1   44    technician   single  secondary      no       29     yes   no   \n",
       "2   33  entrepreneur  married  secondary      no        2     yes  yes   \n",
       "3   47   blue-collar  married    unknown      no     1506     yes   no   \n",
       "4   33       unknown   single    unknown      no        1      no   no   \n",
       "\n",
       "   contact  day  ... duration  campaign  pdays  previous  poutcome   y  \\\n",
       "0  unknown    5  ...      261         1     -1         0   unknown  no   \n",
       "1  unknown    5  ...      151         1     -1         0   unknown  no   \n",
       "2  unknown    5  ...       76         1     -1         0   unknown  no   \n",
       "3  unknown    5  ...       92         1     -1         0   unknown  no   \n",
       "4  unknown    5  ...      198         1     -1         0   unknown  no   \n",
       "\n",
       "  age_updated  duration_updated  balance_updated  campaign_updated  \n",
       "0          58               261             2143                 1  \n",
       "1          44               151               29                 1  \n",
       "2          33                76                2                 1  \n",
       "3          47                92             1506                 1  \n",
       "4          33               198                1                 1  \n",
       "\n",
       "[5 rows x 21 columns]"
      ]
     },
     "execution_count": 12,
     "metadata": {},
     "output_type": "execute_result"
    }
   ],
   "source": [
    "data.head()"
   ]
  },
  {
   "cell_type": "code",
   "execution_count": 13,
   "id": "c46f7ffc",
   "metadata": {
    "ExecuteTime": {
     "end_time": "2023-04-11T05:02:04.249439Z",
     "start_time": "2023-04-11T05:02:01.731134Z"
    }
   },
   "outputs": [
    {
     "data": {
      "image/png": "[encoded data removed]",
      "text/plain": [
       "<Figure size 432x288 with 1 Axes>"
      ]
     },
     "metadata": {
      "needs_background": "light"
     },
     "output_type": "display_data"
    },
    {
     "data": {
      "image/png": "[encoded data removed]",
      "text/plain": [
       "<Figure size 432x288 with 1 Axes>"
      ]
     },
     "metadata": {
      "needs_background": "light"
     },
     "output_type": "display_data"
    }
   ],
   "source": [
    "data[['age']].plot.hist(bins = 20, color ='#ca7558', title = 'Age - Before Outlier Treatment')\n",
    "data[['age_updated']].plot.hist(bins = 20, color ='#ca7558', title = 'Age - After Outlier Treatment')\n",
    "plt.show()"
   ]
  },
  {
   "cell_type": "code",
   "execution_count": 14,
   "id": "518af8c5",
   "metadata": {
    "ExecuteTime": {
     "end_time": "2023-04-11T05:02:05.067787Z",
     "start_time": "2023-04-11T05:02:04.257435Z"
    }
   },
   "outputs": [
    {
     "data": {
      "image/png": "[encoded data removed]",
      "text/plain": [
       "<Figure size 432x288 with 1 Axes>"
      ]
     },
     "metadata": {
      "needs_background": "light"
     },
     "output_type": "display_data"
    },
    {
     "data": {
      "image/png": "[encoded data removed]",
      "text/plain": [
       "<Figure size 432x288 with 1 Axes>"
      ]
     },
     "metadata": {
      "needs_background": "light"
     },
     "output_type": "display_data"
    }
   ],
   "source": [
    "data[['duration']].plot.hist(bins = 20, color ='#ca7558', title = 'Duration - Before Outlier Treatment')\n",
    "data[['duration_updated']].plot.hist(bins = 20, color ='#ca7558', title = 'Duration - After Outlier Treatment')\n",
    "plt.show()"
   ]
  },
  {
   "cell_type": "code",
   "execution_count": 13,
   "id": "0467245d",
   "metadata": {
    "ExecuteTime": {
     "end_time": "2023-04-07T07:19:17.805949Z",
     "start_time": "2023-04-07T07:19:17.479313Z"
    }
   },
   "outputs": [
    {
     "data": {
      "image/png": "[encoded data removed]",
      "text/plain": [
       "<Figure size 432x288 with 1 Axes>"
      ]
     },
     "metadata": {
      "needs_background": "light"
     },
     "output_type": "display_data"
    },
    {
     "data": {
      "image/png": "[encoded data removed]",
      "text/plain": [
       "<Figure size 432x288 with 1 Axes>"
      ]
     },
     "metadata": {
      "needs_background": "light"
     },
     "output_type": "display_data"
    }
   ],
   "source": [
    "data[['balance']].plot.hist(bins = 20, color ='#ca7558', title = 'Balance - Before Outlier Treatment')\n",
    "data[['balance_updated']].plot.hist(bins = 20, color ='#ca7558', title = 'Balance - After Outlier Treatment')\n",
    "plt.show()"
   ]
  },
  {
   "cell_type": "code",
   "execution_count": 14,
   "id": "e873df44",
   "metadata": {
    "ExecuteTime": {
     "end_time": "2023-04-07T07:19:18.232255Z",
     "start_time": "2023-04-07T07:19:17.973829Z"
    }
   },
   "outputs": [
    {
     "data": {
      "image/png": "[encoded data removed]",
      "text/plain": [
       "<Figure size 432x288 with 1 Axes>"
      ]
     },
     "metadata": {
      "needs_background": "light"
     },
     "output_type": "display_data"
    },
    {
     "data": {
      "image/png": "[encoded data removed]",
      "text/plain": [
       "<Figure size 432x288 with 1 Axes>"
      ]
     },
     "metadata": {
      "needs_background": "light"
     },
     "output_type": "display_data"
    }
   ],
   "source": [
    "data[['campaign']].plot.hist(bins = 20, color ='#ca7558', title = 'Campaign - Before Outlier Treatment')\n",
    "data[['campaign_updated']].plot.hist(bins = 20, color ='#ca7558', title = 'Campaign - After Outlier Treatment')\n",
    "plt.show()"
   ]
  },
  {
   "cell_type": "markdown",
   "id": "cc623775",
   "metadata": {},
   "source": [
    "<div style='padding: 5px; background-color: rgb(0, 128, 128); color: white'> <h3> Feature Engineering </h3> </div>"
   ]
  },
  {
   "cell_type": "markdown",
   "id": "ebc016cd",
   "metadata": {},
   "source": [
    "###### Eliminating correlated variables"
   ]
  },
  {
   "cell_type": "code",
   "execution_count": 15,
   "id": "9cb07ec3",
   "metadata": {
    "ExecuteTime": {
     "end_time": "2023-04-07T07:19:19.474113Z",
     "start_time": "2023-04-07T07:19:19.467095Z"
    }
   },
   "outputs": [
    {
     "data": {
      "text/plain": [
       "Index(['age', 'job', 'marital', 'education', 'default', 'balance', 'housing',\n",
       "       'loan', 'contact', 'day', 'month', 'duration', 'campaign', 'pdays',\n",
       "       'previous', 'poutcome', 'y', 'age_updated', 'duration_updated',\n",
       "       'balance_updated', 'campaign_updated'],\n",
       "      dtype='object')"
      ]
     },
     "execution_count": 15,
     "metadata": {},
     "output_type": "execute_result"
    }
   ],
   "source": [
    "data.columns"
   ]
  },
  {
   "cell_type": "code",
   "execution_count": 15,
   "id": "db0b02cc",
   "metadata": {
    "ExecuteTime": {
     "end_time": "2023-04-11T05:02:08.457808Z",
     "start_time": "2023-04-11T05:02:08.442212Z"
    }
   },
   "outputs": [],
   "source": [
    "data = data.drop(['pdays'], axis = 1)"
   ]
  },
  {
   "cell_type": "markdown",
   "id": "8e95279a",
   "metadata": {},
   "source": [
    "###### Dummy coding categorical variables"
   ]
  },
  {
   "cell_type": "code",
   "execution_count": 16,
   "id": "6db003f7",
   "metadata": {
    "ExecuteTime": {
     "end_time": "2023-04-11T05:02:09.207485Z",
     "start_time": "2023-04-11T05:02:09.095655Z"
    }
   },
   "outputs": [],
   "source": [
    "data = pd.get_dummies(data)"
   ]
  },
  {
   "cell_type": "markdown",
   "id": "164e9db6",
   "metadata": {},
   "source": [
    "<div style='padding: 5px; background-color: rgb(0, 128, 128); color: white'> <h3> Model Development - Decision Tree </h3> </div>"
   ]
  },
  {
   "cell_type": "markdown",
   "id": "583e1b08",
   "metadata": {},
   "source": [
    "###### Test vs Train split"
   ]
  },
  {
   "cell_type": "code",
   "execution_count": 17,
   "id": "670923b3",
   "metadata": {
    "ExecuteTime": {
     "end_time": "2023-04-11T05:02:10.537301Z",
     "start_time": "2023-04-11T05:02:10.360415Z"
    }
   },
   "outputs": [],
   "source": [
    "Xtrain, Xtest, ytrain, ytest = train_test_split(data[['age_updated', 'duration_updated', 'balance_updated',\n",
    "       'campaign_updated', 'previous',\n",
    "       'job_admin.', 'job_blue-collar', 'job_entrepreneur',\n",
    "       'job_housemaid', 'job_management', 'job_retired', 'job_self-employed',\n",
    "       'job_services', 'job_student', 'job_technician', 'job_unemployed',\n",
    "       'job_unknown', 'marital_divorced', 'marital_married', 'marital_single',\n",
    "       'education_primary', 'education_secondary', 'education_tertiary',\n",
    "       'education_unknown', 'default_yes', \n",
    "       'housing_yes', 'loan_yes', 'contact_cellular',\n",
    "       'contact_telephone', 'contact_unknown', 'month_apr', 'month_aug',\n",
    "       'month_dec', 'month_feb', 'month_jan', 'month_jul', 'month_jun',\n",
    "       'month_mar', 'month_may', 'month_nov', 'month_oct', 'month_sep',\n",
    "       'poutcome_failure', 'poutcome_success']], data['y_yes'], test_size=0.2, random_state=2, stratify=data['y_yes'])"
   ]
  },
  {
   "cell_type": "markdown",
   "id": "49a4d2be",
   "metadata": {},
   "source": [
    "###### Class blancing for addressing class imbalancing using oversampling"
   ]
  },
  {
   "cell_type": "code",
   "execution_count": 18,
   "id": "6eea46ec",
   "metadata": {
    "ExecuteTime": {
     "end_time": "2023-04-11T05:02:11.431809Z",
     "start_time": "2023-04-11T05:02:11.278847Z"
    }
   },
   "outputs": [],
   "source": [
    "overSampleData = RandomOverSampler(sampling_strategy=0.5, random_state=42)\n",
    "XtrainOver, ytrainOver = overSampleData.fit_resample(Xtrain, ytrain)"
   ]
  },
  {
   "cell_type": "code",
   "execution_count": 19,
   "id": "b00d3954",
   "metadata": {
    "ExecuteTime": {
     "end_time": "2023-04-11T05:02:12.247970Z",
     "start_time": "2023-04-11T05:02:12.228601Z"
    }
   },
   "outputs": [
    {
     "data": {
      "text/plain": [
       "(47905, 44)"
      ]
     },
     "execution_count": 19,
     "metadata": {},
     "output_type": "execute_result"
    }
   ],
   "source": [
    "XtrainOver.shape"
   ]
  },
  {
   "cell_type": "code",
   "execution_count": 20,
   "id": "87c209da",
   "metadata": {
    "ExecuteTime": {
     "end_time": "2023-04-11T05:02:12.654132Z",
     "start_time": "2023-04-11T05:02:12.640802Z"
    }
   },
   "outputs": [
    {
     "data": {
      "text/plain": [
       "(36168, 44)"
      ]
     },
     "execution_count": 20,
     "metadata": {},
     "output_type": "execute_result"
    }
   ],
   "source": [
    "Xtrain.shape"
   ]
  },
  {
   "cell_type": "markdown",
   "id": "12905e24",
   "metadata": {},
   "source": [
    "###### Model Building"
   ]
  },
  {
   "cell_type": "code",
   "execution_count": 25,
   "id": "d393db2c",
   "metadata": {
    "ExecuteTime": {
     "end_time": "2023-04-03T05:18:33.228445Z",
     "start_time": "2023-04-03T05:18:33.217445Z"
    }
   },
   "outputs": [],
   "source": [
    "modelF1Score = make_scorer(f1_score)"
   ]
  },
  {
   "cell_type": "code",
   "execution_count": 26,
   "id": "305e8b13",
   "metadata": {
    "ExecuteTime": {
     "end_time": "2023-04-03T05:19:58.497395Z",
     "start_time": "2023-04-03T05:18:33.849950Z"
    }
   },
   "outputs": [
    {
     "name": "stdout",
     "output_type": "stream",
     "text": [
      "Train Evaluation\n",
      "              precision    recall  f1-score   support\n",
      "\n",
      "          no       0.98      0.97      0.98     31937\n",
      "         yes       0.94      0.97      0.95     15968\n",
      "\n",
      "    accuracy                           0.97     47905\n",
      "   macro avg       0.96      0.97      0.96     47905\n",
      "weighted avg       0.97      0.97      0.97     47905\n",
      "\n",
      "**********\n",
      "Test Evaluation\n",
      "              precision    recall  f1-score   support\n",
      "\n",
      "          no       0.94      0.91      0.92      7985\n",
      "         yes       0.45      0.53      0.48      1058\n",
      "\n",
      "    accuracy                           0.87      9043\n",
      "   macro avg       0.69      0.72      0.70      9043\n",
      "weighted avg       0.88      0.87      0.87      9043\n",
      "\n"
     ]
    }
   ],
   "source": [
    "gridParam = {'max_depth': list(range(1, 20, 1)), 'max_features': [10, 11, 12, 13, 14, 15, 16, 17, 18, 19, 20]}\n",
    "grid = GridSearchCV(DecisionTreeClassifier(random_state = 2), gridParam, scoring = modelF1Score)\n",
    "grid.fit(XtrainOver, ytrainOver)\n",
    "\n",
    "\n",
    "print('Train Evaluation')\n",
    "print(classification_report(ytrainOver, grid.predict(XtrainOver), target_names=['no', 'yes']))\n",
    "\n",
    "print('*'*10)\n",
    "print('Test Evaluation')\n",
    "print(classification_report(ytest, grid.predict(Xtest), target_names=['no', 'yes']))"
   ]
  },
  {
   "cell_type": "code",
   "execution_count": 27,
   "id": "fbe2b540",
   "metadata": {
    "ExecuteTime": {
     "end_time": "2023-04-03T05:19:58.528913Z",
     "start_time": "2023-04-03T05:19:58.500402Z"
    }
   },
   "outputs": [
    {
     "data": {
      "text/html": [
       "<style>#sk-container-id-1 {color: black;background-color: white;}#sk-container-id-1 pre{padding: 0;}#sk-container-id-1 div.sk-toggleable {background-color: white;}#sk-container-id-1 label.sk-toggleable__label {cursor: pointer;display: block;width: 100%;margin-bottom: 0;padding: 0.3em;box-sizing: border-box;text-align: center;}#sk-container-id-1 label.sk-toggleable__label-arrow:before {content: \"▸\";float: left;margin-right: 0.25em;color: #696969;}#sk-container-id-1 label.sk-toggleable__label-arrow:hover:before {color: black;}#sk-container-id-1 div.sk-estimator:hover label.sk-toggleable__label-arrow:before {color: black;}#sk-container-id-1 div.sk-toggleable__content {max-height: 0;max-width: 0;overflow: hidden;text-align: left;background-color: #f0f8ff;}#sk-container-id-1 div.sk-toggleable__content pre {margin: 0.2em;color: black;border-radius: 0.25em;background-color: #f0f8ff;}#sk-container-id-1 input.sk-toggleable__control:checked~div.sk-toggleable__content {max-height: 200px;max-width: 100%;overflow: auto;}#sk-container-id-1 input.sk-toggleable__control:checked~label.sk-toggleable__label-arrow:before {content: \"▾\";}#sk-container-id-1 div.sk-estimator input.sk-toggleable__control:checked~label.sk-toggleable__label {background-color: #d4ebff;}#sk-container-id-1 div.sk-label input.sk-toggleable__control:checked~label.sk-toggleable__label {background-color: #d4ebff;}#sk-container-id-1 input.sk-hidden--visually {border: 0;clip: rect(1px 1px 1px 1px);clip: rect(1px, 1px, 1px, 1px);height: 1px;margin: -1px;overflow: hidden;padding: 0;position: absolute;width: 1px;}#sk-container-id-1 div.sk-estimator {font-family: monospace;background-color: #f0f8ff;border: 1px dotted black;border-radius: 0.25em;box-sizing: border-box;margin-bottom: 0.5em;}#sk-container-id-1 div.sk-estimator:hover {background-color: #d4ebff;}#sk-container-id-1 div.sk-parallel-item::after {content: \"\";width: 100%;border-bottom: 1px solid gray;flex-grow: 1;}#sk-container-id-1 div.sk-label:hover label.sk-toggleable__label {background-color: #d4ebff;}#sk-container-id-1 div.sk-serial::before {content: \"\";position: absolute;border-left: 1px solid gray;box-sizing: border-box;top: 0;bottom: 0;left: 50%;z-index: 0;}#sk-container-id-1 div.sk-serial {display: flex;flex-direction: column;align-items: center;background-color: white;padding-right: 0.2em;padding-left: 0.2em;position: relative;}#sk-container-id-1 div.sk-item {position: relative;z-index: 1;}#sk-container-id-1 div.sk-parallel {display: flex;align-items: stretch;justify-content: center;background-color: white;position: relative;}#sk-container-id-1 div.sk-item::before, #sk-container-id-1 div.sk-parallel-item::before {content: \"\";position: absolute;border-left: 1px solid gray;box-sizing: border-box;top: 0;bottom: 0;left: 50%;z-index: -1;}#sk-container-id-1 div.sk-parallel-item {display: flex;flex-direction: column;z-index: 1;position: relative;background-color: white;}#sk-container-id-1 div.sk-parallel-item:first-child::after {align-self: flex-end;width: 50%;}#sk-container-id-1 div.sk-parallel-item:last-child::after {align-self: flex-start;width: 50%;}#sk-container-id-1 div.sk-parallel-item:only-child::after {width: 0;}#sk-container-id-1 div.sk-dashed-wrapped {border: 1px dashed gray;margin: 0 0.4em 0.5em 0.4em;box-sizing: border-box;padding-bottom: 0.4em;background-color: white;}#sk-container-id-1 div.sk-label label {font-family: monospace;font-weight: bold;display: inline-block;line-height: 1.2em;}#sk-container-id-1 div.sk-label-container {text-align: center;}#sk-container-id-1 div.sk-container {/* jupyter's `normalize.less` sets `[hidden] { display: none; }` but bootstrap.min.css set `[hidden] { display: none !important; }` so we also need the `!important` here to be able to override the default hidden behavior on the sphinx rendered scikit-learn.org. See: https://github.com/scikit-learn/scikit-learn/issues/21755 */display: inline-block !important;position: relative;}#sk-container-id-1 div.sk-text-repr-fallback {display: none;}</style><div id=\"sk-container-id-1\" class=\"sk-top-container\"><div class=\"sk-text-repr-fallback\"><pre>DecisionTreeClassifier(max_depth=19, max_features=19, random_state=2)</pre><b>In a Jupyter environment, please rerun this cell to show the HTML representation or trust the notebook. <br />On GitHub, the HTML representation is unable to render, please try loading this page with nbviewer.org.</b></div><div class=\"sk-container\" hidden><div class=\"sk-item\"><div class=\"sk-estimator sk-toggleable\"><input class=\"sk-toggleable__control sk-hidden--visually\" id=\"sk-estimator-id-1\" type=\"checkbox\" checked><label for=\"sk-estimator-id-1\" class=\"sk-toggleable__label sk-toggleable__label-arrow\">DecisionTreeClassifier</label><div class=\"sk-toggleable__content\"><pre>DecisionTreeClassifier(max_depth=19, max_features=19, random_state=2)</pre></div></div></div></div></div>"
      ],
      "text/plain": [
       "DecisionTreeClassifier(max_depth=19, max_features=19, random_state=2)"
      ]
     },
     "execution_count": 27,
     "metadata": {},
     "output_type": "execute_result"
    }
   ],
   "source": [
    "grid.best_estimator_"
   ]
  },
  {
   "cell_type": "code",
   "execution_count": 28,
   "id": "a44ad0b2",
   "metadata": {
    "ExecuteTime": {
     "end_time": "2023-04-03T05:19:58.544059Z",
     "start_time": "2023-04-03T05:19:58.531872Z"
    }
   },
   "outputs": [],
   "source": [
    "a = pd.DataFrame(grid.cv_results_)\n",
    "a['max_depth'] = [i['max_depth'] for i in a['params']]\n",
    "a['max_features'] = [i['max_features'] for i in a['params']]"
   ]
  },
  {
   "cell_type": "markdown",
   "id": "083539f4",
   "metadata": {},
   "source": [
    "- Saving model"
   ]
  },
  {
   "cell_type": "code",
   "execution_count": 29,
   "id": "ac286a0c",
   "metadata": {
    "ExecuteTime": {
     "end_time": "2023-04-03T05:19:58.560318Z",
     "start_time": "2023-04-03T05:19:58.547135Z"
    }
   },
   "outputs": [],
   "source": [
    "dtModel = grid.best_estimator_"
   ]
  },
  {
   "cell_type": "code",
   "execution_count": 30,
   "id": "dd3e92d1",
   "metadata": {
    "ExecuteTime": {
     "end_time": "2023-04-03T05:19:58.575613Z",
     "start_time": "2023-04-03T05:19:58.562346Z"
    }
   },
   "outputs": [],
   "source": [
    "#pickle.dump(dtModel, open('../models/decision_tree_24032023.sav', 'wb'))"
   ]
  },
  {
   "cell_type": "code",
   "execution_count": 31,
   "id": "ecc70914",
   "metadata": {
    "ExecuteTime": {
     "end_time": "2023-04-03T05:19:58.718001Z",
     "start_time": "2023-04-03T05:19:58.576626Z"
    }
   },
   "outputs": [
    {
     "name": "stderr",
     "output_type": "stream",
     "text": [
      "F:\\lib\\site-packages\\pandas\\core\\indexes\\base.py:6982: FutureWarning: In a future version, the Index constructor will not infer numeric dtypes when passed object-dtype sequences (matching Series behavior)\n",
      "  return Index(sequences[0], name=names)\n"
     ]
    },
    {
     "data": {
      "image/png": "[encoded data removed]",
      "text/plain": [
       "<Figure size 432x288 with 1 Axes>"
      ]
     },
     "metadata": {
      "needs_background": "light"
     },
     "output_type": "display_data"
    }
   ],
   "source": [
    "pd.DataFrame({'Mean Test F1 Score': a[a['max_depth'] == 19]['mean_test_score'], 'Max Features': a[a['max_depth'] == 19]['param_max_features']}).plot(x = 'Max Features', y = 'Mean Test F1 Score', title = 'Test F1 Score vs Max Features', color ='#ca7558')\n",
    "plt.show()"
   ]
  },
  {
   "cell_type": "code",
   "execution_count": 32,
   "id": "55b9ca30",
   "metadata": {
    "ExecuteTime": {
     "end_time": "2023-04-03T05:19:58.829841Z",
     "start_time": "2023-04-03T05:19:58.719807Z"
    }
   },
   "outputs": [
    {
     "data": {
      "image/png": "[encoded data removed]",
      "text/plain": [
       "<Figure size 432x288 with 1 Axes>"
      ]
     },
     "metadata": {
      "needs_background": "light"
     },
     "output_type": "display_data"
    }
   ],
   "source": [
    "pd.DataFrame({'Mean Test F1 Score': a[a['max_features'] == 19]['mean_test_score'], 'Max Depth': a[a['max_features'] == 19]['param_max_depth']}).plot(x = 'Max Depth', y = 'Mean Test F1 Score', title = 'Test F1 Score vs Max Depth', color ='#ca7558')\n",
    "plt.show()"
   ]
  },
  {
   "cell_type": "markdown",
   "id": "dc126ae1",
   "metadata": {},
   "source": [
    "<div style='padding: 5px; background-color: rgb(0, 128, 128); color: white'> <h3> Model Development - Random Forest </h3> </div>"
   ]
  },
  {
   "cell_type": "code",
   "execution_count": 47,
   "id": "b1d1c90c",
   "metadata": {
    "ExecuteTime": {
     "end_time": "2023-03-26T12:00:33.191551Z",
     "start_time": "2023-03-26T12:00:25.429500Z"
    }
   },
   "outputs": [
    {
     "name": "stdout",
     "output_type": "stream",
     "text": [
      "Train Evaluation\n",
      "              precision    recall  f1-score   support\n",
      "\n",
      "          no       0.99      0.95      0.97     31937\n",
      "         yes       0.72      0.89      0.80      4231\n",
      "\n",
      "    accuracy                           0.95     36168\n",
      "   macro avg       0.85      0.92      0.88     36168\n",
      "weighted avg       0.95      0.95      0.95     36168\n",
      "\n",
      "**********\n",
      "Test Evaluation\n",
      "              precision    recall  f1-score   support\n",
      "\n",
      "          no       0.95      0.93      0.94      7985\n",
      "         yes       0.54      0.67      0.60      1058\n",
      "\n",
      "    accuracy                           0.90      9043\n",
      "   macro avg       0.75      0.80      0.77      9043\n",
      "weighted avg       0.91      0.90      0.90      9043\n",
      "\n"
     ]
    }
   ],
   "source": [
    "# gridParam = {'n_estimators' : range(1, 200, 10) , 'max_depth': [10, 11, 12, 13, 14, 15, 16, 17, 18, 19, 20]}\n",
    "# grid = GridSearchCV(RandomForestClassifier(random_state = 2), gridParam, scoring = modelF1Score, cv = 2)\n",
    "# grid.fit(XtrainOver, ytrainOver)\n",
    "\n",
    "gridParam = {'n_estimators' : [101] , 'max_depth': [15]}\n",
    "grid = GridSearchCV(RandomForestClassifier(random_state = 2), gridParam, scoring = modelF1Score, cv = 2)\n",
    "grid.fit(XtrainOver, ytrainOver)\n",
    "\n",
    "\n",
    "print('Train Evaluation')\n",
    "print(classification_report(ytrain, grid.predict(Xtrain), target_names=['no', 'yes']))\n",
    "\n",
    "print('*'*10)\n",
    "print('Test Evaluation')\n",
    "print(classification_report(ytest, grid.predict(Xtest), target_names=['no', 'yes']))"
   ]
  },
  {
   "cell_type": "code",
   "execution_count": 48,
   "id": "189a917e",
   "metadata": {
    "ExecuteTime": {
     "end_time": "2023-03-26T12:00:33.204362Z",
     "start_time": "2023-03-26T12:00:33.193513Z"
    }
   },
   "outputs": [
    {
     "data": {
      "text/html": [
       "<style>#sk-container-id-2 {color: black;background-color: white;}#sk-container-id-2 pre{padding: 0;}#sk-container-id-2 div.sk-toggleable {background-color: white;}#sk-container-id-2 label.sk-toggleable__label {cursor: pointer;display: block;width: 100%;margin-bottom: 0;padding: 0.3em;box-sizing: border-box;text-align: center;}#sk-container-id-2 label.sk-toggleable__label-arrow:before {content: \"▸\";float: left;margin-right: 0.25em;color: #696969;}#sk-container-id-2 label.sk-toggleable__label-arrow:hover:before {color: black;}#sk-container-id-2 div.sk-estimator:hover label.sk-toggleable__label-arrow:before {color: black;}#sk-container-id-2 div.sk-toggleable__content {max-height: 0;max-width: 0;overflow: hidden;text-align: left;background-color: #f0f8ff;}#sk-container-id-2 div.sk-toggleable__content pre {margin: 0.2em;color: black;border-radius: 0.25em;background-color: #f0f8ff;}#sk-container-id-2 input.sk-toggleable__control:checked~div.sk-toggleable__content {max-height: 200px;max-width: 100%;overflow: auto;}#sk-container-id-2 input.sk-toggleable__control:checked~label.sk-toggleable__label-arrow:before {content: \"▾\";}#sk-container-id-2 div.sk-estimator input.sk-toggleable__control:checked~label.sk-toggleable__label {background-color: #d4ebff;}#sk-container-id-2 div.sk-label input.sk-toggleable__control:checked~label.sk-toggleable__label {background-color: #d4ebff;}#sk-container-id-2 input.sk-hidden--visually {border: 0;clip: rect(1px 1px 1px 1px);clip: rect(1px, 1px, 1px, 1px);height: 1px;margin: -1px;overflow: hidden;padding: 0;position: absolute;width: 1px;}#sk-container-id-2 div.sk-estimator {font-family: monospace;background-color: #f0f8ff;border: 1px dotted black;border-radius: 0.25em;box-sizing: border-box;margin-bottom: 0.5em;}#sk-container-id-2 div.sk-estimator:hover {background-color: #d4ebff;}#sk-container-id-2 div.sk-parallel-item::after {content: \"\";width: 100%;border-bottom: 1px solid gray;flex-grow: 1;}#sk-container-id-2 div.sk-label:hover label.sk-toggleable__label {background-color: #d4ebff;}#sk-container-id-2 div.sk-serial::before {content: \"\";position: absolute;border-left: 1px solid gray;box-sizing: border-box;top: 0;bottom: 0;left: 50%;z-index: 0;}#sk-container-id-2 div.sk-serial {display: flex;flex-direction: column;align-items: center;background-color: white;padding-right: 0.2em;padding-left: 0.2em;position: relative;}#sk-container-id-2 div.sk-item {position: relative;z-index: 1;}#sk-container-id-2 div.sk-parallel {display: flex;align-items: stretch;justify-content: center;background-color: white;position: relative;}#sk-container-id-2 div.sk-item::before, #sk-container-id-2 div.sk-parallel-item::before {content: \"\";position: absolute;border-left: 1px solid gray;box-sizing: border-box;top: 0;bottom: 0;left: 50%;z-index: -1;}#sk-container-id-2 div.sk-parallel-item {display: flex;flex-direction: column;z-index: 1;position: relative;background-color: white;}#sk-container-id-2 div.sk-parallel-item:first-child::after {align-self: flex-end;width: 50%;}#sk-container-id-2 div.sk-parallel-item:last-child::after {align-self: flex-start;width: 50%;}#sk-container-id-2 div.sk-parallel-item:only-child::after {width: 0;}#sk-container-id-2 div.sk-dashed-wrapped {border: 1px dashed gray;margin: 0 0.4em 0.5em 0.4em;box-sizing: border-box;padding-bottom: 0.4em;background-color: white;}#sk-container-id-2 div.sk-label label {font-family: monospace;font-weight: bold;display: inline-block;line-height: 1.2em;}#sk-container-id-2 div.sk-label-container {text-align: center;}#sk-container-id-2 div.sk-container {/* jupyter's `normalize.less` sets `[hidden] { display: none; }` but bootstrap.min.css set `[hidden] { display: none !important; }` so we also need the `!important` here to be able to override the default hidden behavior on the sphinx rendered scikit-learn.org. See: https://github.com/scikit-learn/scikit-learn/issues/21755 */display: inline-block !important;position: relative;}#sk-container-id-2 div.sk-text-repr-fallback {display: none;}</style><div id=\"sk-container-id-2\" class=\"sk-top-container\"><div class=\"sk-text-repr-fallback\"><pre>RandomForestClassifier(max_depth=15, n_estimators=101, random_state=2)</pre><b>In a Jupyter environment, please rerun this cell to show the HTML representation or trust the notebook. <br />On GitHub, the HTML representation is unable to render, please try loading this page with nbviewer.org.</b></div><div class=\"sk-container\" hidden><div class=\"sk-item\"><div class=\"sk-estimator sk-toggleable\"><input class=\"sk-toggleable__control sk-hidden--visually\" id=\"sk-estimator-id-2\" type=\"checkbox\" checked><label for=\"sk-estimator-id-2\" class=\"sk-toggleable__label sk-toggleable__label-arrow\">RandomForestClassifier</label><div class=\"sk-toggleable__content\"><pre>RandomForestClassifier(max_depth=15, n_estimators=101, random_state=2)</pre></div></div></div></div></div>"
      ],
      "text/plain": [
       "RandomForestClassifier(max_depth=15, n_estimators=101, random_state=2)"
      ]
     },
     "execution_count": 48,
     "metadata": {},
     "output_type": "execute_result"
    }
   ],
   "source": [
    "grid.best_estimator_"
   ]
  },
  {
   "cell_type": "markdown",
   "id": "ba9d4412",
   "metadata": {},
   "source": [
    "- Saving best model"
   ]
  },
  {
   "cell_type": "code",
   "execution_count": 49,
   "id": "955c6664",
   "metadata": {
    "ExecuteTime": {
     "end_time": "2023-03-26T12:00:33.219080Z",
     "start_time": "2023-03-26T12:00:33.204362Z"
    }
   },
   "outputs": [],
   "source": [
    "rfModel = grid.best_estimator_"
   ]
  },
  {
   "cell_type": "code",
   "execution_count": 50,
   "id": "51ad09ff",
   "metadata": {
    "ExecuteTime": {
     "end_time": "2023-03-26T12:00:33.235066Z",
     "start_time": "2023-03-26T12:00:33.219080Z"
    }
   },
   "outputs": [],
   "source": [
    "#pickle.dump(rfModel, open('../models/random_forest_24032023.sav', 'wb'))"
   ]
  },
  {
   "cell_type": "markdown",
   "id": "3c24b465",
   "metadata": {},
   "source": [
    "- Analyzing results"
   ]
  },
  {
   "cell_type": "code",
   "execution_count": 155,
   "id": "87221a09",
   "metadata": {
    "ExecuteTime": {
     "end_time": "2023-03-24T11:16:31.412564Z",
     "start_time": "2023-03-24T11:16:31.391777Z"
    }
   },
   "outputs": [],
   "source": [
    "a = pd.DataFrame(grid.cv_results_)\n",
    "a['max_depth'] = [i['max_depth'] for i in a['params']]\n",
    "a['n_estimators'] = [i['n_estimators'] for i in a['params']]"
   ]
  },
  {
   "cell_type": "code",
   "execution_count": 156,
   "id": "568ca97f",
   "metadata": {
    "ExecuteTime": {
     "end_time": "2023-03-24T11:16:31.785585Z",
     "start_time": "2023-03-24T11:16:31.419642Z"
    }
   },
   "outputs": [
    {
     "name": "stderr",
     "output_type": "stream",
     "text": [
      "F:\\lib\\site-packages\\pandas\\core\\indexes\\base.py:6982: FutureWarning: In a future version, the Index constructor will not infer numeric dtypes when passed object-dtype sequences (matching Series behavior)\n",
      "  return Index(sequences[0], name=names)\n"
     ]
    },
    {
     "data": {
      "image/png": "[encoded data removed]",
      "text/plain": [
       "<Figure size 432x288 with 1 Axes>"
      ]
     },
     "metadata": {
      "needs_background": "light"
     },
     "output_type": "display_data"
    }
   ],
   "source": [
    "pd.DataFrame({'Mean Test F1 Score': a[a['n_estimators'] == 101]['mean_test_score'], 'Max Depth': a[a['n_estimators'] == 101]['param_max_depth']}).plot(x = 'Max Depth', y = 'Mean Test F1 Score', title = 'Test F1 Score vs Max Depth')\n",
    "plt.show()"
   ]
  },
  {
   "cell_type": "code",
   "execution_count": 157,
   "id": "f2fe0f5f",
   "metadata": {
    "ExecuteTime": {
     "end_time": "2023-03-24T11:16:32.135189Z",
     "start_time": "2023-03-24T11:16:31.793374Z"
    }
   },
   "outputs": [
    {
     "data": {
      "image/png": "[encoded data removed]",
      "text/plain": [
       "<Figure size 432x288 with 1 Axes>"
      ]
     },
     "metadata": {
      "needs_background": "light"
     },
     "output_type": "display_data"
    }
   ],
   "source": [
    "pd.DataFrame({'Mean Test F1 Score': a[a['max_depth'] == 15]['mean_test_score'], 'Max Depth': a[a['max_depth'] == 15]['param_n_estimators']}).plot(x = 'Max Depth', y = 'Mean Test F1 Score', title = 'Test F1 Score vs Max Depth')\n",
    "plt.show()"
   ]
  },
  {
   "cell_type": "markdown",
   "id": "8e04d806",
   "metadata": {},
   "source": [
    "<div style='padding: 5px; background-color: rgb(0, 128, 128); color: white'> <h3> Model Development - Xgboost </h3> </div>"
   ]
  },
  {
   "cell_type": "code",
   "execution_count": 52,
   "id": "a1652a11",
   "metadata": {
    "ExecuteTime": {
     "end_time": "2023-03-26T12:51:01.102254Z",
     "start_time": "2023-03-26T12:51:01.086394Z"
    }
   },
   "outputs": [],
   "source": [
    "xgbtModel = xgb.XGBClassifier()"
   ]
  },
  {
   "cell_type": "code",
   "execution_count": 55,
   "id": "01508c12",
   "metadata": {
    "ExecuteTime": {
     "end_time": "2023-03-26T12:52:10.281603Z",
     "start_time": "2023-03-26T12:52:00.030868Z"
    },
    "scrolled": false
   },
   "outputs": [
    {
     "name": "stdout",
     "output_type": "stream",
     "text": [
      "Fitting 2 folds for each of 1 candidates, totalling 2 fits\n",
      "[CV 1/2; 1/1] START max_depth=7, n_estimators=90................................\n",
      "[CV 1/2; 1/1] END .max_depth=7, n_estimators=90;, score=0.857 total time=   2.4s\n",
      "[CV 2/2; 1/1] START max_depth=7, n_estimators=90................................\n",
      "[CV 2/2; 1/1] END .max_depth=7, n_estimators=90;, score=0.866 total time=   2.4s\n",
      "Train Evaluation\n",
      "              precision    recall  f1-score   support\n",
      "\n",
      "          no       0.99      0.95      0.97     31937\n",
      "         yes       0.72      0.93      0.81      4231\n",
      "\n",
      "    accuracy                           0.95     36168\n",
      "   macro avg       0.85      0.94      0.89     36168\n",
      "weighted avg       0.96      0.95      0.95     36168\n",
      "\n",
      "**********\n",
      "Test Evaluation\n",
      "              precision    recall  f1-score   support\n",
      "\n",
      "          no       0.95      0.92      0.94      7985\n",
      "         yes       0.52      0.66      0.58      1058\n",
      "\n",
      "    accuracy                           0.89      9043\n",
      "   macro avg       0.73      0.79      0.76      9043\n",
      "weighted avg       0.90      0.89      0.89      9043\n",
      "\n"
     ]
    }
   ],
   "source": [
    "# gridParam = {'n_estimators' : list(range(50, 150, 20)) , 'max_depth': [10, 11, 12, 13, 14, 15, 16, 17, 18, 19, 20]}\n",
    "# grid = GridSearchCV(xgbtModel, gridParam, verbose=10, scoring = modelF1Score, cv = 2)\n",
    "# grid.fit(XtrainOver, ytrainOver)\n",
    "\n",
    "gridParam = {'n_estimators' : [90] , 'max_depth': [7]}\n",
    "grid = GridSearchCV(xgbtModel, gridParam, verbose=10, scoring = modelF1Score, cv = 2)\n",
    "grid.fit(XtrainOver, ytrainOver)\n",
    "\n",
    "\n",
    "print('Train Evaluation')\n",
    "print(classification_report(ytrain, grid.predict(Xtrain), target_names=['no', 'yes']))\n",
    "\n",
    "print('*'*10)\n",
    "print('Test Evaluation')\n",
    "print(classification_report(ytest, grid.predict(Xtest), target_names=['no', 'yes']))"
   ]
  },
  {
   "cell_type": "code",
   "execution_count": 56,
   "id": "24c40123",
   "metadata": {
    "ExecuteTime": {
     "end_time": "2023-03-26T12:52:10.333052Z",
     "start_time": "2023-03-26T12:52:10.290808Z"
    }
   },
   "outputs": [
    {
     "data": {
      "text/html": [
       "<style>#sk-container-id-3 {color: black;background-color: white;}#sk-container-id-3 pre{padding: 0;}#sk-container-id-3 div.sk-toggleable {background-color: white;}#sk-container-id-3 label.sk-toggleable__label {cursor: pointer;display: block;width: 100%;margin-bottom: 0;padding: 0.3em;box-sizing: border-box;text-align: center;}#sk-container-id-3 label.sk-toggleable__label-arrow:before {content: \"▸\";float: left;margin-right: 0.25em;color: #696969;}#sk-container-id-3 label.sk-toggleable__label-arrow:hover:before {color: black;}#sk-container-id-3 div.sk-estimator:hover label.sk-toggleable__label-arrow:before {color: black;}#sk-container-id-3 div.sk-toggleable__content {max-height: 0;max-width: 0;overflow: hidden;text-align: left;background-color: #f0f8ff;}#sk-container-id-3 div.sk-toggleable__content pre {margin: 0.2em;color: black;border-radius: 0.25em;background-color: #f0f8ff;}#sk-container-id-3 input.sk-toggleable__control:checked~div.sk-toggleable__content {max-height: 200px;max-width: 100%;overflow: auto;}#sk-container-id-3 input.sk-toggleable__control:checked~label.sk-toggleable__label-arrow:before {content: \"▾\";}#sk-container-id-3 div.sk-estimator input.sk-toggleable__control:checked~label.sk-toggleable__label {background-color: #d4ebff;}#sk-container-id-3 div.sk-label input.sk-toggleable__control:checked~label.sk-toggleable__label {background-color: #d4ebff;}#sk-container-id-3 input.sk-hidden--visually {border: 0;clip: rect(1px 1px 1px 1px);clip: rect(1px, 1px, 1px, 1px);height: 1px;margin: -1px;overflow: hidden;padding: 0;position: absolute;width: 1px;}#sk-container-id-3 div.sk-estimator {font-family: monospace;background-color: #f0f8ff;border: 1px dotted black;border-radius: 0.25em;box-sizing: border-box;margin-bottom: 0.5em;}#sk-container-id-3 div.sk-estimator:hover {background-color: #d4ebff;}#sk-container-id-3 div.sk-parallel-item::after {content: \"\";width: 100%;border-bottom: 1px solid gray;flex-grow: 1;}#sk-container-id-3 div.sk-label:hover label.sk-toggleable__label {background-color: #d4ebff;}#sk-container-id-3 div.sk-serial::before {content: \"\";position: absolute;border-left: 1px solid gray;box-sizing: border-box;top: 0;bottom: 0;left: 50%;z-index: 0;}#sk-container-id-3 div.sk-serial {display: flex;flex-direction: column;align-items: center;background-color: white;padding-right: 0.2em;padding-left: 0.2em;position: relative;}#sk-container-id-3 div.sk-item {position: relative;z-index: 1;}#sk-container-id-3 div.sk-parallel {display: flex;align-items: stretch;justify-content: center;background-color: white;position: relative;}#sk-container-id-3 div.sk-item::before, #sk-container-id-3 div.sk-parallel-item::before {content: \"\";position: absolute;border-left: 1px solid gray;box-sizing: border-box;top: 0;bottom: 0;left: 50%;z-index: -1;}#sk-container-id-3 div.sk-parallel-item {display: flex;flex-direction: column;z-index: 1;position: relative;background-color: white;}#sk-container-id-3 div.sk-parallel-item:first-child::after {align-self: flex-end;width: 50%;}#sk-container-id-3 div.sk-parallel-item:last-child::after {align-self: flex-start;width: 50%;}#sk-container-id-3 div.sk-parallel-item:only-child::after {width: 0;}#sk-container-id-3 div.sk-dashed-wrapped {border: 1px dashed gray;margin: 0 0.4em 0.5em 0.4em;box-sizing: border-box;padding-bottom: 0.4em;background-color: white;}#sk-container-id-3 div.sk-label label {font-family: monospace;font-weight: bold;display: inline-block;line-height: 1.2em;}#sk-container-id-3 div.sk-label-container {text-align: center;}#sk-container-id-3 div.sk-container {/* jupyter's `normalize.less` sets `[hidden] { display: none; }` but bootstrap.min.css set `[hidden] { display: none !important; }` so we also need the `!important` here to be able to override the default hidden behavior on the sphinx rendered scikit-learn.org. See: https://github.com/scikit-learn/scikit-learn/issues/21755 */display: inline-block !important;position: relative;}#sk-container-id-3 div.sk-text-repr-fallback {display: none;}</style><div id=\"sk-container-id-3\" class=\"sk-top-container\"><div class=\"sk-text-repr-fallback\"><pre>XGBClassifier(base_score=0.5, booster=&#x27;gbtree&#x27;, callbacks=None,\n",
       "              colsample_bylevel=1, colsample_bynode=1, colsample_bytree=1,\n",
       "              early_stopping_rounds=None, enable_categorical=False,\n",
       "              eval_metric=None, gamma=0, gpu_id=-1, grow_policy=&#x27;depthwise&#x27;,\n",
       "              importance_type=None, interaction_constraints=&#x27;&#x27;,\n",
       "              learning_rate=0.300000012, max_bin=256, max_cat_to_onehot=4,\n",
       "              max_delta_step=0, max_depth=7, max_leaves=0, min_child_weight=1,\n",
       "              missing=nan, monotone_constraints=&#x27;()&#x27;, n_estimators=90, n_jobs=0,\n",
       "              num_parallel_tree=1, predictor=&#x27;auto&#x27;, random_state=0,\n",
       "              reg_alpha=0, reg_lambda=1, ...)</pre><b>In a Jupyter environment, please rerun this cell to show the HTML representation or trust the notebook. <br />On GitHub, the HTML representation is unable to render, please try loading this page with nbviewer.org.</b></div><div class=\"sk-container\" hidden><div class=\"sk-item\"><div class=\"sk-estimator sk-toggleable\"><input class=\"sk-toggleable__control sk-hidden--visually\" id=\"sk-estimator-id-3\" type=\"checkbox\" checked><label for=\"sk-estimator-id-3\" class=\"sk-toggleable__label sk-toggleable__label-arrow\">XGBClassifier</label><div class=\"sk-toggleable__content\"><pre>XGBClassifier(base_score=0.5, booster=&#x27;gbtree&#x27;, callbacks=None,\n",
       "              colsample_bylevel=1, colsample_bynode=1, colsample_bytree=1,\n",
       "              early_stopping_rounds=None, enable_categorical=False,\n",
       "              eval_metric=None, gamma=0, gpu_id=-1, grow_policy=&#x27;depthwise&#x27;,\n",
       "              importance_type=None, interaction_constraints=&#x27;&#x27;,\n",
       "              learning_rate=0.300000012, max_bin=256, max_cat_to_onehot=4,\n",
       "              max_delta_step=0, max_depth=7, max_leaves=0, min_child_weight=1,\n",
       "              missing=nan, monotone_constraints=&#x27;()&#x27;, n_estimators=90, n_jobs=0,\n",
       "              num_parallel_tree=1, predictor=&#x27;auto&#x27;, random_state=0,\n",
       "              reg_alpha=0, reg_lambda=1, ...)</pre></div></div></div></div></div>"
      ],
      "text/plain": [
       "XGBClassifier(base_score=0.5, booster='gbtree', callbacks=None,\n",
       "              colsample_bylevel=1, colsample_bynode=1, colsample_bytree=1,\n",
       "              early_stopping_rounds=None, enable_categorical=False,\n",
       "              eval_metric=None, gamma=0, gpu_id=-1, grow_policy='depthwise',\n",
       "              importance_type=None, interaction_constraints='',\n",
       "              learning_rate=0.300000012, max_bin=256, max_cat_to_onehot=4,\n",
       "              max_delta_step=0, max_depth=7, max_leaves=0, min_child_weight=1,\n",
       "              missing=nan, monotone_constraints='()', n_estimators=90, n_jobs=0,\n",
       "              num_parallel_tree=1, predictor='auto', random_state=0,\n",
       "              reg_alpha=0, reg_lambda=1, ...)"
      ]
     },
     "execution_count": 56,
     "metadata": {},
     "output_type": "execute_result"
    }
   ],
   "source": [
    "grid.best_estimator_"
   ]
  },
  {
   "cell_type": "code",
   "execution_count": 57,
   "id": "a9926c9c",
   "metadata": {
    "ExecuteTime": {
     "end_time": "2023-03-26T12:52:21.271310Z",
     "start_time": "2023-03-26T12:52:21.256578Z"
    }
   },
   "outputs": [],
   "source": [
    "xgbModel = grid.best_estimator_"
   ]
  },
  {
   "cell_type": "code",
   "execution_count": 58,
   "id": "ed30fb67",
   "metadata": {
    "ExecuteTime": {
     "end_time": "2023-03-26T12:52:23.878708Z",
     "start_time": "2023-03-26T12:52:23.563267Z"
    }
   },
   "outputs": [],
   "source": [
    "#pickle.dump(xgbModel, open('../models/xgboost_model_24032023.sav', 'wb'))"
   ]
  },
  {
   "cell_type": "code",
   "execution_count": 163,
   "id": "28a0d0c8",
   "metadata": {
    "ExecuteTime": {
     "end_time": "2023-03-24T11:26:27.350602Z",
     "start_time": "2023-03-24T11:26:27.330178Z"
    }
   },
   "outputs": [],
   "source": [
    "a = pd.DataFrame(grid.cv_results_)\n",
    "a['max_depth'] = [i['max_depth'] for i in a['params']]\n",
    "a['n_estimators'] = [i['n_estimators'] for i in a['params']]"
   ]
  },
  {
   "cell_type": "code",
   "execution_count": 164,
   "id": "9a029b7b",
   "metadata": {
    "ExecuteTime": {
     "end_time": "2023-03-24T11:26:27.589069Z",
     "start_time": "2023-03-24T11:26:27.355472Z"
    }
   },
   "outputs": [
    {
     "name": "stderr",
     "output_type": "stream",
     "text": [
      "F:\\lib\\site-packages\\pandas\\core\\indexes\\base.py:6982: FutureWarning: In a future version, the Index constructor will not infer numeric dtypes when passed object-dtype sequences (matching Series behavior)\n",
      "  return Index(sequences[0], name=names)\n"
     ]
    },
    {
     "data": {
      "image/png": "[encoded data removed]",
      "text/plain": [
       "<Figure size 432x288 with 1 Axes>"
      ]
     },
     "metadata": {
      "needs_background": "light"
     },
     "output_type": "display_data"
    }
   ],
   "source": [
    "pd.DataFrame({'Mean Test F1 Score': a[a['n_estimators'] == 130]['mean_test_score'], 'Max Depth': a[a['n_estimators'] == 130]['param_max_depth']}).plot(x = 'Max Depth', y = 'Mean Test F1 Score', title = 'Test F1 Score vs Max Depth')\n",
    "plt.show()"
   ]
  },
  {
   "cell_type": "code",
   "execution_count": 165,
   "id": "14410139",
   "metadata": {
    "ExecuteTime": {
     "end_time": "2023-03-24T11:26:27.951766Z",
     "start_time": "2023-03-24T11:26:27.595743Z"
    }
   },
   "outputs": [
    {
     "data": {
      "image/png": "[encoded data removed]",
      "text/plain": [
       "<Figure size 432x288 with 1 Axes>"
      ]
     },
     "metadata": {
      "needs_background": "light"
     },
     "output_type": "display_data"
    }
   ],
   "source": [
    "pd.DataFrame({'Mean Test F1 Score': a[a['max_depth'] == 12]['mean_test_score'], 'Max Depth': a[a['max_depth'] == 12]['param_n_estimators']}).plot(x = 'Max Depth', y = 'Mean Test F1 Score', title = 'Test F1 Score vs Max Depth')\n",
    "plt.show()"
   ]
  },
  {
   "cell_type": "markdown",
   "id": "e5c3d10d",
   "metadata": {},
   "source": [
    "###### Model Ensemble"
   ]
  },
  {
   "cell_type": "code",
   "execution_count": 42,
   "id": "552d01fc",
   "metadata": {
    "ExecuteTime": {
     "end_time": "2023-04-07T07:30:11.345146Z",
     "start_time": "2023-04-07T07:30:11.227490Z"
    }
   },
   "outputs": [],
   "source": [
    "dfModel = pickle.load(open('../models/decision_tree_24032023.sav', 'rb'))\n",
    "rfModel = pickle.load(open('../models/random_forest_24032023.sav', 'rb'))\n",
    "xgbModel = pickle.load(open('../models/xgboost_model_24032023.sav', 'rb'))"
   ]
  },
  {
   "cell_type": "code",
   "execution_count": 43,
   "id": "ba3909be",
   "metadata": {
    "ExecuteTime": {
     "end_time": "2023-04-07T07:30:11.796604Z",
     "start_time": "2023-04-07T07:30:11.780556Z"
    }
   },
   "outputs": [],
   "source": [
    "def ensembleResults(res1, res2, res3):\n",
    "    total = np.add(res2, res3)\n",
    "    total = [0 if (i==0) & (j==0) else 1 for i,j in zip(res2, res3)]\n",
    "    \n",
    "    #total = np.round(total, 0)\n",
    "    \n",
    "    return total"
   ]
  },
  {
   "cell_type": "markdown",
   "id": "faf0a336",
   "metadata": {},
   "source": [
    "- Train Ensemble"
   ]
  },
  {
   "cell_type": "code",
   "execution_count": 46,
   "id": "842df355",
   "metadata": {
    "ExecuteTime": {
     "end_time": "2023-04-07T07:30:48.025494Z",
     "start_time": "2023-04-07T07:30:46.950814Z"
    }
   },
   "outputs": [
    {
     "data": {
      "text/plain": [
       "[0,\n",
       " 0,\n",
       " 0,\n",
       " 1,\n",
       " 0,\n",
       " 0,\n",
       " 0,\n",
       " 0,\n",
       " 0,\n",
       " 0,\n",
       " 0,\n",
       " 1,\n",
       " 0,\n",
       " 0,\n",
       " 0,\n",
       " 0,\n",
       " 0,\n",
       " 0,\n",
       " 0,\n",
       " 0,\n",
       " 0,\n",
       " 0,\n",
       " 0,\n",
       " 0,\n",
       " 0,\n",
       " 0,\n",
       " 0,\n",
       " 0,\n",
       " 0,\n",
       " 0,\n",
       " 0,\n",
       " 0,\n",
       " 0,\n",
       " 0,\n",
       " 0,\n",
       " 1,\n",
       " 0,\n",
       " 0,\n",
       " 0,\n",
       " 1,\n",
       " 0,\n",
       " 0,\n",
       " 0,\n",
       " 0,\n",
       " 0,\n",
       " 0,\n",
       " 0,\n",
       " 0,\n",
       " 0,\n",
       " 0,\n",
       " 0,\n",
       " 0,\n",
       " 0,\n",
       " 0,\n",
       " 1,\n",
       " 0,\n",
       " 0,\n",
       " 0,\n",
       " 1,\n",
       " 0,\n",
       " 0,\n",
       " 0,\n",
       " 0,\n",
       " 0,\n",
       " 1,\n",
       " 0,\n",
       " 0,\n",
       " 0,\n",
       " 0,\n",
       " 0,\n",
       " 0,\n",
       " 0,\n",
       " 0,\n",
       " 1,\n",
       " 1,\n",
       " 0,\n",
       " 0,\n",
       " 1,\n",
       " 1,\n",
       " 0,\n",
       " 0,\n",
       " 0,\n",
       " 1,\n",
       " 0,\n",
       " 0,\n",
       " 0,\n",
       " 0,\n",
       " 0,\n",
       " 1,\n",
       " 0,\n",
       " 0,\n",
       " 0,\n",
       " 1,\n",
       " 0,\n",
       " 0,\n",
       " 0,\n",
       " 0,\n",
       " 0,\n",
       " 0,\n",
       " 0,\n",
       " 0,\n",
       " 0,\n",
       " 0,\n",
       " 1,\n",
       " 0,\n",
       " 0,\n",
       " 0,\n",
       " 0,\n",
       " 0,\n",
       " 1,\n",
       " 1,\n",
       " 0,\n",
       " 0,\n",
       " 0,\n",
       " 0,\n",
       " 0,\n",
       " 0,\n",
       " 0,\n",
       " 0,\n",
       " 0,\n",
       " 0,\n",
       " 0,\n",
       " 0,\n",
       " 0,\n",
       " 0,\n",
       " 0,\n",
       " 0,\n",
       " 1,\n",
       " 0,\n",
       " 0,\n",
       " 0,\n",
       " 0,\n",
       " 0,\n",
       " 0,\n",
       " 1,\n",
       " 0,\n",
       " 0,\n",
       " 0,\n",
       " 0,\n",
       " 0,\n",
       " 0,\n",
       " 0,\n",
       " 0,\n",
       " 1,\n",
       " 0,\n",
       " 0,\n",
       " 0,\n",
       " 1,\n",
       " 0,\n",
       " 0,\n",
       " 0,\n",
       " 0,\n",
       " 1,\n",
       " 0,\n",
       " 0,\n",
       " 0,\n",
       " 1,\n",
       " 0,\n",
       " 0,\n",
       " 0,\n",
       " 1,\n",
       " 0,\n",
       " 1,\n",
       " 0,\n",
       " 0,\n",
       " 0,\n",
       " 1,\n",
       " 0,\n",
       " 0,\n",
       " 1,\n",
       " 0,\n",
       " 0,\n",
       " 0,\n",
       " 0,\n",
       " 0,\n",
       " 0,\n",
       " 0,\n",
       " 0,\n",
       " 0,\n",
       " 0,\n",
       " 0,\n",
       " 1,\n",
       " 0,\n",
       " 1,\n",
       " 0,\n",
       " 0,\n",
       " 0,\n",
       " 0,\n",
       " 0,\n",
       " 0,\n",
       " 0,\n",
       " 1,\n",
       " 0,\n",
       " 0,\n",
       " 0,\n",
       " 0,\n",
       " 0,\n",
       " 0,\n",
       " 0,\n",
       " 0,\n",
       " 0,\n",
       " 0,\n",
       " 0,\n",
       " 0,\n",
       " 0,\n",
       " 0,\n",
       " 0,\n",
       " 0,\n",
       " 1,\n",
       " 0,\n",
       " 0,\n",
       " 0,\n",
       " 0,\n",
       " 0,\n",
       " 0,\n",
       " 0,\n",
       " 0,\n",
       " 0,\n",
       " 0,\n",
       " 0,\n",
       " 0,\n",
       " 0,\n",
       " 0,\n",
       " 0,\n",
       " 0,\n",
       " 0,\n",
       " 0,\n",
       " 0,\n",
       " 0,\n",
       " 0,\n",
       " 0,\n",
       " 1,\n",
       " 0,\n",
       " 0,\n",
       " 0,\n",
       " 0,\n",
       " 0,\n",
       " 0,\n",
       " 0,\n",
       " 0,\n",
       " 1,\n",
       " 0,\n",
       " 0,\n",
       " 0,\n",
       " 1,\n",
       " 0,\n",
       " 0,\n",
       " 0,\n",
       " 0,\n",
       " 1,\n",
       " 0,\n",
       " 0,\n",
       " 0,\n",
       " 0,\n",
       " 1,\n",
       " 0,\n",
       " 0,\n",
       " 0,\n",
       " 0,\n",
       " 0,\n",
       " 0,\n",
       " 0,\n",
       " 0,\n",
       " 0,\n",
       " 0,\n",
       " 0,\n",
       " 0,\n",
       " 0,\n",
       " 1,\n",
       " 0,\n",
       " 0,\n",
       " 0,\n",
       " 0,\n",
       " 1,\n",
       " 0,\n",
       " 0,\n",
       " 0,\n",
       " 0,\n",
       " 0,\n",
       " 0,\n",
       " 0,\n",
       " 0,\n",
       " 0,\n",
       " 0,\n",
       " 0,\n",
       " 0,\n",
       " 0,\n",
       " 1,\n",
       " 0,\n",
       " 0,\n",
       " 0,\n",
       " 0,\n",
       " 0,\n",
       " 0,\n",
       " 0,\n",
       " 0,\n",
       " 0,\n",
       " 0,\n",
       " 1,\n",
       " 0,\n",
       " 1,\n",
       " 1,\n",
       " 1,\n",
       " 0,\n",
       " 1,\n",
       " 0,\n",
       " 0,\n",
       " 0,\n",
       " 0,\n",
       " 0,\n",
       " 0,\n",
       " 0,\n",
       " 0,\n",
       " 0,\n",
       " 0,\n",
       " 0,\n",
       " 0,\n",
       " 0,\n",
       " 0,\n",
       " 0,\n",
       " 0,\n",
       " 0,\n",
       " 0,\n",
       " 0,\n",
       " 1,\n",
       " 1,\n",
       " 0,\n",
       " 1,\n",
       " 0,\n",
       " 0,\n",
       " 0,\n",
       " 0,\n",
       " 0,\n",
       " 0,\n",
       " 0,\n",
       " 0,\n",
       " 0,\n",
       " 0,\n",
       " 0,\n",
       " 0,\n",
       " 1,\n",
       " 0,\n",
       " 0,\n",
       " 0,\n",
       " 0,\n",
       " 0,\n",
       " 1,\n",
       " 0,\n",
       " 0,\n",
       " 0,\n",
       " 0,\n",
       " 0,\n",
       " 0,\n",
       " 0,\n",
       " 0,\n",
       " 0,\n",
       " 0,\n",
       " 0,\n",
       " 0,\n",
       " 0,\n",
       " 1,\n",
       " 1,\n",
       " 0,\n",
       " 1,\n",
       " 0,\n",
       " 0,\n",
       " 1,\n",
       " 0,\n",
       " 0,\n",
       " 0,\n",
       " 0,\n",
       " 0,\n",
       " 0,\n",
       " 0,\n",
       " 0,\n",
       " 0,\n",
       " 0,\n",
       " 1,\n",
       " 0,\n",
       " 1,\n",
       " 0,\n",
       " 0,\n",
       " 0,\n",
       " 0,\n",
       " 0,\n",
       " 0,\n",
       " 0,\n",
       " 0,\n",
       " 0,\n",
       " 0,\n",
       " 0,\n",
       " 0,\n",
       " 0,\n",
       " 1,\n",
       " 0,\n",
       " 0,\n",
       " 0,\n",
       " 0,\n",
       " 1,\n",
       " 0,\n",
       " 0,\n",
       " 0,\n",
       " 0,\n",
       " 1,\n",
       " 1,\n",
       " 0,\n",
       " 1,\n",
       " 1,\n",
       " 0,\n",
       " 0,\n",
       " 0,\n",
       " 0,\n",
       " 0,\n",
       " 0,\n",
       " 0,\n",
       " 0,\n",
       " 0,\n",
       " 0,\n",
       " 0,\n",
       " 1,\n",
       " 0,\n",
       " 0,\n",
       " 0,\n",
       " 0,\n",
       " 0,\n",
       " 0,\n",
       " 0,\n",
       " 0,\n",
       " 1,\n",
       " 0,\n",
       " 0,\n",
       " 0,\n",
       " 0,\n",
       " 0,\n",
       " 0,\n",
       " 0,\n",
       " 0,\n",
       " 1,\n",
       " 1,\n",
       " 0,\n",
       " 0,\n",
       " 0,\n",
       " 0,\n",
       " 1,\n",
       " 0,\n",
       " 0,\n",
       " 0,\n",
       " 0,\n",
       " 0,\n",
       " 0,\n",
       " 0,\n",
       " 0,\n",
       " 0,\n",
       " 0,\n",
       " 0,\n",
       " 1,\n",
       " 0,\n",
       " 0,\n",
       " 0,\n",
       " 0,\n",
       " 0,\n",
       " 1,\n",
       " 0,\n",
       " 0,\n",
       " 0,\n",
       " 0,\n",
       " 0,\n",
       " 0,\n",
       " 0,\n",
       " 0,\n",
       " 0,\n",
       " 0,\n",
       " 0,\n",
       " 1,\n",
       " 1,\n",
       " 0,\n",
       " 0,\n",
       " 0,\n",
       " 0,\n",
       " 0,\n",
       " 0,\n",
       " 0,\n",
       " 1,\n",
       " 0,\n",
       " 0,\n",
       " 0,\n",
       " 0,\n",
       " 0,\n",
       " 0,\n",
       " 0,\n",
       " 0,\n",
       " 1,\n",
       " 0,\n",
       " 1,\n",
       " 0,\n",
       " 0,\n",
       " 0,\n",
       " 0,\n",
       " 0,\n",
       " 1,\n",
       " 0,\n",
       " 0,\n",
       " 0,\n",
       " 0,\n",
       " 0,\n",
       " 1,\n",
       " 0,\n",
       " 1,\n",
       " 0,\n",
       " 0,\n",
       " 1,\n",
       " 1,\n",
       " 0,\n",
       " 0,\n",
       " 0,\n",
       " 0,\n",
       " 0,\n",
       " 0,\n",
       " 0,\n",
       " 0,\n",
       " 0,\n",
       " 0,\n",
       " 0,\n",
       " 0,\n",
       " 0,\n",
       " 0,\n",
       " 1,\n",
       " 0,\n",
       " 0,\n",
       " 0,\n",
       " 0,\n",
       " 0,\n",
       " 0,\n",
       " 0,\n",
       " 0,\n",
       " 0,\n",
       " 0,\n",
       " 0,\n",
       " 0,\n",
       " 0,\n",
       " 0,\n",
       " 0,\n",
       " 0,\n",
       " 0,\n",
       " 0,\n",
       " 1,\n",
       " 0,\n",
       " 0,\n",
       " 0,\n",
       " 0,\n",
       " 0,\n",
       " 0,\n",
       " 0,\n",
       " 0,\n",
       " 0,\n",
       " 0,\n",
       " 0,\n",
       " 0,\n",
       " 0,\n",
       " 0,\n",
       " 0,\n",
       " 1,\n",
       " 0,\n",
       " 0,\n",
       " 0,\n",
       " 0,\n",
       " 0,\n",
       " 1,\n",
       " 0,\n",
       " 0,\n",
       " 0,\n",
       " 1,\n",
       " 0,\n",
       " 0,\n",
       " 1,\n",
       " 0,\n",
       " 0,\n",
       " 0,\n",
       " 0,\n",
       " 1,\n",
       " 0,\n",
       " 1,\n",
       " 0,\n",
       " 0,\n",
       " 1,\n",
       " 0,\n",
       " 1,\n",
       " 0,\n",
       " 0,\n",
       " 0,\n",
       " 0,\n",
       " 0,\n",
       " 0,\n",
       " 0,\n",
       " 0,\n",
       " 0,\n",
       " 1,\n",
       " 0,\n",
       " 0,\n",
       " 0,\n",
       " 0,\n",
       " 0,\n",
       " 0,\n",
       " 0,\n",
       " 1,\n",
       " 1,\n",
       " 0,\n",
       " 0,\n",
       " 0,\n",
       " 0,\n",
       " 0,\n",
       " 0,\n",
       " 1,\n",
       " 0,\n",
       " 0,\n",
       " 0,\n",
       " 1,\n",
       " 0,\n",
       " 0,\n",
       " 0,\n",
       " 1,\n",
       " 0,\n",
       " 0,\n",
       " 1,\n",
       " 0,\n",
       " 0,\n",
       " 0,\n",
       " 0,\n",
       " 0,\n",
       " 0,\n",
       " 0,\n",
       " 0,\n",
       " 0,\n",
       " 0,\n",
       " 0,\n",
       " 1,\n",
       " 0,\n",
       " 1,\n",
       " 0,\n",
       " 0,\n",
       " 1,\n",
       " 0,\n",
       " 0,\n",
       " 0,\n",
       " 0,\n",
       " 0,\n",
       " 0,\n",
       " 0,\n",
       " 0,\n",
       " 0,\n",
       " 0,\n",
       " 1,\n",
       " 0,\n",
       " 0,\n",
       " 0,\n",
       " 0,\n",
       " 0,\n",
       " 0,\n",
       " 0,\n",
       " 0,\n",
       " 0,\n",
       " 0,\n",
       " 0,\n",
       " 0,\n",
       " 0,\n",
       " 0,\n",
       " 0,\n",
       " 0,\n",
       " 0,\n",
       " 0,\n",
       " 0,\n",
       " 0,\n",
       " 0,\n",
       " 1,\n",
       " 0,\n",
       " 0,\n",
       " 0,\n",
       " 0,\n",
       " 0,\n",
       " 1,\n",
       " 1,\n",
       " 0,\n",
       " 0,\n",
       " 0,\n",
       " 0,\n",
       " 0,\n",
       " 0,\n",
       " 0,\n",
       " 0,\n",
       " 0,\n",
       " 0,\n",
       " 0,\n",
       " 0,\n",
       " 0,\n",
       " 0,\n",
       " 0,\n",
       " 0,\n",
       " 0,\n",
       " 0,\n",
       " 0,\n",
       " 0,\n",
       " 0,\n",
       " 0,\n",
       " 1,\n",
       " 0,\n",
       " 1,\n",
       " 1,\n",
       " 1,\n",
       " 0,\n",
       " 0,\n",
       " 0,\n",
       " 0,\n",
       " 0,\n",
       " 0,\n",
       " 0,\n",
       " 0,\n",
       " 1,\n",
       " 0,\n",
       " 0,\n",
       " 0,\n",
       " 1,\n",
       " 0,\n",
       " 0,\n",
       " 0,\n",
       " 0,\n",
       " 0,\n",
       " 0,\n",
       " 1,\n",
       " 0,\n",
       " 0,\n",
       " 0,\n",
       " 1,\n",
       " 0,\n",
       " 0,\n",
       " 0,\n",
       " 0,\n",
       " 0,\n",
       " 0,\n",
       " 0,\n",
       " 0,\n",
       " 0,\n",
       " 0,\n",
       " 0,\n",
       " 0,\n",
       " 1,\n",
       " 0,\n",
       " 0,\n",
       " 0,\n",
       " 0,\n",
       " 0,\n",
       " 0,\n",
       " 0,\n",
       " 0,\n",
       " 0,\n",
       " 0,\n",
       " 0,\n",
       " 0,\n",
       " 0,\n",
       " 1,\n",
       " 0,\n",
       " 0,\n",
       " 0,\n",
       " 0,\n",
       " 1,\n",
       " 1,\n",
       " 0,\n",
       " 0,\n",
       " 0,\n",
       " 0,\n",
       " 0,\n",
       " 1,\n",
       " 0,\n",
       " 0,\n",
       " 0,\n",
       " 0,\n",
       " 0,\n",
       " 0,\n",
       " 0,\n",
       " 0,\n",
       " 0,\n",
       " 0,\n",
       " 0,\n",
       " 0,\n",
       " 1,\n",
       " 0,\n",
       " 0,\n",
       " 0,\n",
       " 0,\n",
       " 0,\n",
       " 0,\n",
       " 0,\n",
       " 0,\n",
       " 0,\n",
       " 0,\n",
       " 1,\n",
       " 1,\n",
       " 0,\n",
       " 0,\n",
       " 0,\n",
       " 0,\n",
       " 0,\n",
       " 0,\n",
       " 1,\n",
       " 0,\n",
       " 0,\n",
       " 0,\n",
       " 0,\n",
       " 0,\n",
       " 0,\n",
       " 0,\n",
       " 0,\n",
       " 0,\n",
       " 0,\n",
       " 0,\n",
       " 1,\n",
       " 1,\n",
       " 1,\n",
       " 0,\n",
       " 1,\n",
       " 0,\n",
       " 0,\n",
       " 0,\n",
       " 0,\n",
       " 0,\n",
       " 1,\n",
       " 0,\n",
       " 0,\n",
       " 0,\n",
       " 0,\n",
       " 0,\n",
       " 0,\n",
       " 0,\n",
       " 1,\n",
       " 1,\n",
       " 0,\n",
       " 1,\n",
       " 0,\n",
       " 0,\n",
       " 0,\n",
       " 0,\n",
       " 0,\n",
       " 0,\n",
       " 0,\n",
       " 0,\n",
       " 0,\n",
       " 1,\n",
       " 0,\n",
       " 0,\n",
       " 0,\n",
       " 0,\n",
       " 0,\n",
       " 0,\n",
       " 0,\n",
       " 0,\n",
       " 0,\n",
       " 1,\n",
       " 0,\n",
       " 0,\n",
       " 0,\n",
       " 0,\n",
       " 0,\n",
       " 0,\n",
       " 0,\n",
       " 0,\n",
       " 0,\n",
       " 0,\n",
       " 1,\n",
       " 0,\n",
       " 0,\n",
       " 0,\n",
       " 1,\n",
       " 0,\n",
       " 0,\n",
       " 0,\n",
       " 0,\n",
       " 0,\n",
       " 0,\n",
       " 0,\n",
       " 0,\n",
       " 0,\n",
       " 0,\n",
       " 0,\n",
       " 0,\n",
       " 0,\n",
       " 0,\n",
       " 0,\n",
       " 0,\n",
       " 0,\n",
       " 0,\n",
       " 0,\n",
       " 0,\n",
       " 0,\n",
       " 1,\n",
       " 0,\n",
       " 0,\n",
       " 0,\n",
       " 0,\n",
       " 0,\n",
       " 0,\n",
       " 0,\n",
       " 0,\n",
       " 0,\n",
       " 0,\n",
       " 0,\n",
       " 0,\n",
       " 0,\n",
       " 0,\n",
       " 0,\n",
       " 1,\n",
       " 0,\n",
       " 0,\n",
       " 0,\n",
       " 0,\n",
       " 0,\n",
       " 0,\n",
       " 0,\n",
       " 0,\n",
       " 1,\n",
       " 0,\n",
       " 1,\n",
       " 1,\n",
       " 0,\n",
       " 0,\n",
       " 0,\n",
       " 0,\n",
       " 0,\n",
       " 0,\n",
       " 0,\n",
       " 0,\n",
       " 0,\n",
       " 0,\n",
       " 0,\n",
       " 0,\n",
       " 0,\n",
       " 0,\n",
       " 0,\n",
       " 0,\n",
       " 0,\n",
       " 0,\n",
       " 0,\n",
       " 0,\n",
       " 0,\n",
       " 0,\n",
       " 0,\n",
       " 0,\n",
       " 0,\n",
       " 0,\n",
       " 0,\n",
       " 0,\n",
       " 0,\n",
       " 1,\n",
       " 0,\n",
       " 0,\n",
       " 0,\n",
       " 1,\n",
       " 0,\n",
       " 0,\n",
       " 0,\n",
       " 0,\n",
       " 0,\n",
       " 0,\n",
       " 0,\n",
       " 0,\n",
       " 1,\n",
       " 0,\n",
       " 1,\n",
       " 0,\n",
       " 0,\n",
       " 0,\n",
       " 0,\n",
       " 0,\n",
       " 0,\n",
       " 0,\n",
       " 0,\n",
       " 0,\n",
       " 0,\n",
       " 0,\n",
       " 0,\n",
       " 0,\n",
       " 0,\n",
       " 0,\n",
       " 0,\n",
       " 0,\n",
       " 0,\n",
       " 0,\n",
       " 0,\n",
       " 0,\n",
       " 0,\n",
       " 0,\n",
       " 1,\n",
       " 0,\n",
       " 0,\n",
       " 0,\n",
       " 0,\n",
       " 1,\n",
       " 0,\n",
       " 0,\n",
       " 0,\n",
       " 0,\n",
       " 0,\n",
       " ...]"
      ]
     },
     "execution_count": 46,
     "metadata": {},
     "output_type": "execute_result"
    }
   ],
   "source": [
    "list(rfModel.predict(Xtrain))"
   ]
  },
  {
   "cell_type": "code",
   "execution_count": 24,
   "id": "df4592de",
   "metadata": {
    "ExecuteTime": {
     "end_time": "2023-04-07T07:20:25.343461Z",
     "start_time": "2023-04-07T07:20:23.958514Z"
    }
   },
   "outputs": [
    {
     "name": "stdout",
     "output_type": "stream",
     "text": [
      "Train Evaluation\n",
      "              precision    recall  f1-score   support\n",
      "\n",
      "          no       1.00      0.95      0.97     31937\n",
      "         yes       0.72      0.98      0.83      4231\n",
      "\n",
      "    accuracy                           0.95     36168\n",
      "   macro avg       0.86      0.96      0.90     36168\n",
      "weighted avg       0.96      0.95      0.96     36168\n",
      "\n"
     ]
    }
   ],
   "source": [
    "print('Train Evaluation')\n",
    "print(classification_report(ytrain, ensembleResults(dfModel.predict(Xtrain), rfModel.predict(Xtrain), xgbModel.predict(Xtrain)), target_names=['no', 'yes']))"
   ]
  },
  {
   "cell_type": "markdown",
   "id": "73b7e641",
   "metadata": {},
   "source": [
    "- Test Ensemble"
   ]
  },
  {
   "cell_type": "code",
   "execution_count": 25,
   "id": "d94408b2",
   "metadata": {
    "ExecuteTime": {
     "end_time": "2023-04-07T07:20:25.731921Z",
     "start_time": "2023-04-07T07:20:25.345468Z"
    }
   },
   "outputs": [
    {
     "name": "stdout",
     "output_type": "stream",
     "text": [
      "              precision    recall  f1-score   support\n",
      "\n",
      "          no       0.96      0.91      0.93      7985\n",
      "         yes       0.51      0.70      0.59      1058\n",
      "\n",
      "    accuracy                           0.89      9043\n",
      "   macro avg       0.73      0.81      0.76      9043\n",
      "weighted avg       0.91      0.89      0.89      9043\n",
      "\n"
     ]
    }
   ],
   "source": [
    "print(classification_report(ytest, ensembleResults(dfModel.predict(Xtest), rfModel.predict(Xtest), xgbModel.predict(Xtest)), target_names=['no', 'yes']))"
   ]
  },
  {
   "cell_type": "markdown",
   "id": "fd756539",
   "metadata": {
    "ExecuteTime": {
     "end_time": "2023-04-07T07:20:49.438515Z",
     "start_time": "2023-04-07T07:20:49.422563Z"
    }
   },
   "source": [
    "### Prediction pipeline for webapp"
   ]
  },
  {
   "cell_type": "code",
   "execution_count": 70,
   "id": "48e70a9a",
   "metadata": {
    "ExecuteTime": {
     "end_time": "2023-04-07T07:58:03.527763Z",
     "start_time": "2023-04-07T07:58:03.504867Z"
    }
   },
   "outputs": [
    {
     "data": {
      "text/html": [
       "<div>\n",
       "<style scoped>\n",
       "    .dataframe tbody tr th:only-of-type {\n",
       "        vertical-align: middle;\n",
       "    }\n",
       "\n",
       "    .dataframe tbody tr th {\n",
       "        vertical-align: top;\n",
       "    }\n",
       "\n",
       "    .dataframe thead th {\n",
       "        text-align: right;\n",
       "    }\n",
       "</style>\n",
       "<table border=\"1\" class=\"dataframe\">\n",
       "  <thead>\n",
       "    <tr style=\"text-align: right;\">\n",
       "      <th></th>\n",
       "      <th>age_updated</th>\n",
       "      <th>duration_updated</th>\n",
       "      <th>balance_updated</th>\n",
       "      <th>campaign_updated</th>\n",
       "      <th>previous</th>\n",
       "      <th>job_admin.</th>\n",
       "      <th>job_blue-collar</th>\n",
       "      <th>job_entrepreneur</th>\n",
       "      <th>job_housemaid</th>\n",
       "      <th>job_management</th>\n",
       "      <th>...</th>\n",
       "      <th>month_jan</th>\n",
       "      <th>month_jul</th>\n",
       "      <th>month_jun</th>\n",
       "      <th>month_mar</th>\n",
       "      <th>month_may</th>\n",
       "      <th>month_nov</th>\n",
       "      <th>month_oct</th>\n",
       "      <th>month_sep</th>\n",
       "      <th>poutcome_failure</th>\n",
       "      <th>poutcome_success</th>\n",
       "    </tr>\n",
       "  </thead>\n",
       "  <tbody>\n",
       "    <tr>\n",
       "      <th>20300</th>\n",
       "      <td>34</td>\n",
       "      <td>383</td>\n",
       "      <td>421</td>\n",
       "      <td>3</td>\n",
       "      <td>0</td>\n",
       "      <td>0</td>\n",
       "      <td>0</td>\n",
       "      <td>0</td>\n",
       "      <td>0</td>\n",
       "      <td>1</td>\n",
       "      <td>...</td>\n",
       "      <td>0</td>\n",
       "      <td>0</td>\n",
       "      <td>0</td>\n",
       "      <td>0</td>\n",
       "      <td>0</td>\n",
       "      <td>0</td>\n",
       "      <td>0</td>\n",
       "      <td>0</td>\n",
       "      <td>0</td>\n",
       "      <td>0</td>\n",
       "    </tr>\n",
       "    <tr>\n",
       "      <th>37983</th>\n",
       "      <td>36</td>\n",
       "      <td>480</td>\n",
       "      <td>1041</td>\n",
       "      <td>2</td>\n",
       "      <td>0</td>\n",
       "      <td>0</td>\n",
       "      <td>0</td>\n",
       "      <td>0</td>\n",
       "      <td>0</td>\n",
       "      <td>1</td>\n",
       "      <td>...</td>\n",
       "      <td>0</td>\n",
       "      <td>0</td>\n",
       "      <td>0</td>\n",
       "      <td>0</td>\n",
       "      <td>1</td>\n",
       "      <td>0</td>\n",
       "      <td>0</td>\n",
       "      <td>0</td>\n",
       "      <td>0</td>\n",
       "      <td>0</td>\n",
       "    </tr>\n",
       "    <tr>\n",
       "      <th>29466</th>\n",
       "      <td>30</td>\n",
       "      <td>165</td>\n",
       "      <td>363</td>\n",
       "      <td>1</td>\n",
       "      <td>0</td>\n",
       "      <td>0</td>\n",
       "      <td>1</td>\n",
       "      <td>0</td>\n",
       "      <td>0</td>\n",
       "      <td>0</td>\n",
       "      <td>...</td>\n",
       "      <td>0</td>\n",
       "      <td>0</td>\n",
       "      <td>0</td>\n",
       "      <td>0</td>\n",
       "      <td>0</td>\n",
       "      <td>0</td>\n",
       "      <td>0</td>\n",
       "      <td>0</td>\n",
       "      <td>0</td>\n",
       "      <td>0</td>\n",
       "    </tr>\n",
       "    <tr>\n",
       "      <th>43517</th>\n",
       "      <td>31</td>\n",
       "      <td>654</td>\n",
       "      <td>26965</td>\n",
       "      <td>2</td>\n",
       "      <td>0</td>\n",
       "      <td>0</td>\n",
       "      <td>0</td>\n",
       "      <td>0</td>\n",
       "      <td>1</td>\n",
       "      <td>0</td>\n",
       "      <td>...</td>\n",
       "      <td>0</td>\n",
       "      <td>0</td>\n",
       "      <td>0</td>\n",
       "      <td>0</td>\n",
       "      <td>0</td>\n",
       "      <td>0</td>\n",
       "      <td>0</td>\n",
       "      <td>0</td>\n",
       "      <td>0</td>\n",
       "      <td>0</td>\n",
       "    </tr>\n",
       "    <tr>\n",
       "      <th>9388</th>\n",
       "      <td>56</td>\n",
       "      <td>67</td>\n",
       "      <td>2152</td>\n",
       "      <td>1</td>\n",
       "      <td>0</td>\n",
       "      <td>0</td>\n",
       "      <td>0</td>\n",
       "      <td>0</td>\n",
       "      <td>0</td>\n",
       "      <td>0</td>\n",
       "      <td>...</td>\n",
       "      <td>0</td>\n",
       "      <td>0</td>\n",
       "      <td>1</td>\n",
       "      <td>0</td>\n",
       "      <td>0</td>\n",
       "      <td>0</td>\n",
       "      <td>0</td>\n",
       "      <td>0</td>\n",
       "      <td>0</td>\n",
       "      <td>0</td>\n",
       "    </tr>\n",
       "    <tr>\n",
       "      <th>...</th>\n",
       "      <td>...</td>\n",
       "      <td>...</td>\n",
       "      <td>...</td>\n",
       "      <td>...</td>\n",
       "      <td>...</td>\n",
       "      <td>...</td>\n",
       "      <td>...</td>\n",
       "      <td>...</td>\n",
       "      <td>...</td>\n",
       "      <td>...</td>\n",
       "      <td>...</td>\n",
       "      <td>...</td>\n",
       "      <td>...</td>\n",
       "      <td>...</td>\n",
       "      <td>...</td>\n",
       "      <td>...</td>\n",
       "      <td>...</td>\n",
       "      <td>...</td>\n",
       "      <td>...</td>\n",
       "      <td>...</td>\n",
       "      <td>...</td>\n",
       "    </tr>\n",
       "    <tr>\n",
       "      <th>19797</th>\n",
       "      <td>33</td>\n",
       "      <td>106</td>\n",
       "      <td>2071</td>\n",
       "      <td>2</td>\n",
       "      <td>0</td>\n",
       "      <td>0</td>\n",
       "      <td>0</td>\n",
       "      <td>0</td>\n",
       "      <td>0</td>\n",
       "      <td>1</td>\n",
       "      <td>...</td>\n",
       "      <td>0</td>\n",
       "      <td>0</td>\n",
       "      <td>0</td>\n",
       "      <td>0</td>\n",
       "      <td>0</td>\n",
       "      <td>0</td>\n",
       "      <td>0</td>\n",
       "      <td>0</td>\n",
       "      <td>0</td>\n",
       "      <td>0</td>\n",
       "    </tr>\n",
       "    <tr>\n",
       "      <th>37672</th>\n",
       "      <td>44</td>\n",
       "      <td>7</td>\n",
       "      <td>275</td>\n",
       "      <td>5</td>\n",
       "      <td>4</td>\n",
       "      <td>1</td>\n",
       "      <td>0</td>\n",
       "      <td>0</td>\n",
       "      <td>0</td>\n",
       "      <td>0</td>\n",
       "      <td>...</td>\n",
       "      <td>0</td>\n",
       "      <td>0</td>\n",
       "      <td>0</td>\n",
       "      <td>0</td>\n",
       "      <td>1</td>\n",
       "      <td>0</td>\n",
       "      <td>0</td>\n",
       "      <td>0</td>\n",
       "      <td>1</td>\n",
       "      <td>0</td>\n",
       "    </tr>\n",
       "    <tr>\n",
       "      <th>4869</th>\n",
       "      <td>31</td>\n",
       "      <td>192</td>\n",
       "      <td>1914</td>\n",
       "      <td>1</td>\n",
       "      <td>0</td>\n",
       "      <td>0</td>\n",
       "      <td>1</td>\n",
       "      <td>0</td>\n",
       "      <td>0</td>\n",
       "      <td>0</td>\n",
       "      <td>...</td>\n",
       "      <td>0</td>\n",
       "      <td>0</td>\n",
       "      <td>0</td>\n",
       "      <td>0</td>\n",
       "      <td>1</td>\n",
       "      <td>0</td>\n",
       "      <td>0</td>\n",
       "      <td>0</td>\n",
       "      <td>0</td>\n",
       "      <td>0</td>\n",
       "    </tr>\n",
       "    <tr>\n",
       "      <th>12426</th>\n",
       "      <td>33</td>\n",
       "      <td>266</td>\n",
       "      <td>740</td>\n",
       "      <td>3</td>\n",
       "      <td>0</td>\n",
       "      <td>0</td>\n",
       "      <td>0</td>\n",
       "      <td>0</td>\n",
       "      <td>0</td>\n",
       "      <td>0</td>\n",
       "      <td>...</td>\n",
       "      <td>0</td>\n",
       "      <td>0</td>\n",
       "      <td>1</td>\n",
       "      <td>0</td>\n",
       "      <td>0</td>\n",
       "      <td>0</td>\n",
       "      <td>0</td>\n",
       "      <td>0</td>\n",
       "      <td>0</td>\n",
       "      <td>0</td>\n",
       "    </tr>\n",
       "    <tr>\n",
       "      <th>5893</th>\n",
       "      <td>38</td>\n",
       "      <td>68</td>\n",
       "      <td>504</td>\n",
       "      <td>3</td>\n",
       "      <td>0</td>\n",
       "      <td>0</td>\n",
       "      <td>0</td>\n",
       "      <td>1</td>\n",
       "      <td>0</td>\n",
       "      <td>0</td>\n",
       "      <td>...</td>\n",
       "      <td>0</td>\n",
       "      <td>0</td>\n",
       "      <td>0</td>\n",
       "      <td>0</td>\n",
       "      <td>1</td>\n",
       "      <td>0</td>\n",
       "      <td>0</td>\n",
       "      <td>0</td>\n",
       "      <td>0</td>\n",
       "      <td>0</td>\n",
       "    </tr>\n",
       "  </tbody>\n",
       "</table>\n",
       "<p>36168 rows × 44 columns</p>\n",
       "</div>"
      ],
      "text/plain": [
       "       age_updated  duration_updated  balance_updated  campaign_updated  \\\n",
       "20300           34               383              421                 3   \n",
       "37983           36               480             1041                 2   \n",
       "29466           30               165              363                 1   \n",
       "43517           31               654            26965                 2   \n",
       "9388            56                67             2152                 1   \n",
       "...            ...               ...              ...               ...   \n",
       "19797           33               106             2071                 2   \n",
       "37672           44                 7              275                 5   \n",
       "4869            31               192             1914                 1   \n",
       "12426           33               266              740                 3   \n",
       "5893            38                68              504                 3   \n",
       "\n",
       "       previous  job_admin.  job_blue-collar  job_entrepreneur  job_housemaid  \\\n",
       "20300         0           0                0                 0              0   \n",
       "37983         0           0                0                 0              0   \n",
       "29466         0           0                1                 0              0   \n",
       "43517         0           0                0                 0              1   \n",
       "9388          0           0                0                 0              0   \n",
       "...         ...         ...              ...               ...            ...   \n",
       "19797         0           0                0                 0              0   \n",
       "37672         4           1                0                 0              0   \n",
       "4869          0           0                1                 0              0   \n",
       "12426         0           0                0                 0              0   \n",
       "5893          0           0                0                 1              0   \n",
       "\n",
       "       job_management  ...  month_jan  month_jul  month_jun  month_mar  \\\n",
       "20300               1  ...          0          0          0          0   \n",
       "37983               1  ...          0          0          0          0   \n",
       "29466               0  ...          0          0          0          0   \n",
       "43517               0  ...          0          0          0          0   \n",
       "9388                0  ...          0          0          1          0   \n",
       "...               ...  ...        ...        ...        ...        ...   \n",
       "19797               1  ...          0          0          0          0   \n",
       "37672               0  ...          0          0          0          0   \n",
       "4869                0  ...          0          0          0          0   \n",
       "12426               0  ...          0          0          1          0   \n",
       "5893                0  ...          0          0          0          0   \n",
       "\n",
       "       month_may  month_nov  month_oct  month_sep  poutcome_failure  \\\n",
       "20300          0          0          0          0                 0   \n",
       "37983          1          0          0          0                 0   \n",
       "29466          0          0          0          0                 0   \n",
       "43517          0          0          0          0                 0   \n",
       "9388           0          0          0          0                 0   \n",
       "...          ...        ...        ...        ...               ...   \n",
       "19797          0          0          0          0                 0   \n",
       "37672          1          0          0          0                 1   \n",
       "4869           1          0          0          0                 0   \n",
       "12426          0          0          0          0                 0   \n",
       "5893           1          0          0          0                 0   \n",
       "\n",
       "       poutcome_success  \n",
       "20300                 0  \n",
       "37983                 0  \n",
       "29466                 0  \n",
       "43517                 0  \n",
       "9388                  0  \n",
       "...                 ...  \n",
       "19797                 0  \n",
       "37672                 0  \n",
       "4869                  0  \n",
       "12426                 0  \n",
       "5893                  0  \n",
       "\n",
       "[36168 rows x 44 columns]"
      ]
     },
     "execution_count": 70,
     "metadata": {},
     "output_type": "execute_result"
    }
   ],
   "source": [
    "Xtrain"
   ]
  },
  {
   "cell_type": "code",
   "execution_count": 27,
   "id": "6df575bd",
   "metadata": {
    "ExecuteTime": {
     "end_time": "2023-04-07T07:21:51.679477Z",
     "start_time": "2023-04-07T07:21:51.668388Z"
    }
   },
   "outputs": [],
   "source": [
    "dfModel = pickle.load(open('../models/decision_tree_24032023.sav', 'rb'))\n",
    "rfModel = pickle.load(open('../models/random_forest_24032023.sav', 'rb'))\n",
    "xgbModel = pickle.load(open('../models/xgboost_model_24032023.sav', 'rb'))"
   ]
  },
  {
   "cell_type": "code",
   "execution_count": 21,
   "id": "283cd437",
   "metadata": {
    "ExecuteTime": {
     "end_time": "2023-04-11T05:02:38.311754Z",
     "start_time": "2023-04-11T05:02:37.064064Z"
    }
   },
   "outputs": [],
   "source": [
    "model = pickle.load(open('../models/xgboost_model_24032023.sav', 'rb'))"
   ]
  },
  {
   "cell_type": "code",
   "execution_count": 26,
   "id": "032b2316",
   "metadata": {
    "ExecuteTime": {
     "end_time": "2023-04-11T05:05:07.573529Z",
     "start_time": "2023-04-11T05:05:07.452357Z"
    }
   },
   "outputs": [],
   "source": [
    "results = Xtrain.copy()\n",
    "results['Pred'] = model.predict(Xtrain)"
   ]
  },
  {
   "cell_type": "code",
   "execution_count": 27,
   "id": "79e4b1cb",
   "metadata": {
    "ExecuteTime": {
     "end_time": "2023-04-11T05:05:11.672982Z",
     "start_time": "2023-04-11T05:05:11.541955Z"
    }
   },
   "outputs": [],
   "source": [
    "results[results['Pred'] == 1].to_csv('predictoin_Sample.csv')"
   ]
  },
  {
   "cell_type": "code",
   "execution_count": 23,
   "id": "ad2fca04",
   "metadata": {
    "ExecuteTime": {
     "end_time": "2023-04-11T05:03:12.283134Z",
     "start_time": "2023-04-11T05:03:12.165844Z"
    }
   },
   "outputs": [
    {
     "data": {
      "text/plain": [
       "5458"
      ]
     },
     "execution_count": 23,
     "metadata": {},
     "output_type": "execute_result"
    }
   ],
   "source": [
    "sum(model.predict(Xtrain))"
   ]
  },
  {
   "cell_type": "code",
   "execution_count": 69,
   "id": "20311719",
   "metadata": {
    "ExecuteTime": {
     "end_time": "2023-04-07T07:40:37.414429Z",
     "start_time": "2023-04-07T07:40:36.167416Z"
    }
   },
   "outputs": [
    {
     "name": "stdout",
     "output_type": "stream",
     "text": [
      "[[0.996956   0.00304398]]\n",
      "[0]\n",
      "[[0.9987536 0.0012464]]\n",
      "[0]\n",
      "[[9.9912798e-01 8.7202725e-04]]\n",
      "[0]\n",
      "[[0.9811249  0.01887511]]\n",
      "[0]\n",
      "[[0.9977893  0.00221067]]\n",
      "[0]\n",
      "[[0.9895223  0.01047772]]\n",
      "[0]\n",
      "[[0.9947046  0.00529541]]\n",
      "[0]\n",
      "[[9.9986464e-01 1.3537807e-04]]\n",
      "[0]\n",
      "skip\n",
      "[[0.9979967 0.0020033]]\n",
      "[0]\n",
      "[[0.998286   0.00171397]]\n",
      "[0]\n",
      "skip\n",
      "[[9.9919075e-01 8.0925610e-04]]\n",
      "[0]\n",
      "[[0.998421 0.001579]]\n",
      "[0]\n",
      "[[0.98962474 0.01037526]]\n",
      "[0]\n",
      "[[9.9963087e-01 3.6913628e-04]]\n",
      "[0]\n",
      "[[9.9988484e-01 1.1513565e-04]]\n",
      "[0]\n",
      "[[9.990173e-01 9.826903e-04]]\n",
      "[0]\n",
      "[[9.9989480e-01 1.0518013e-04]]\n",
      "[0]\n",
      "[[0.99695253 0.00304747]]\n",
      "[0]\n",
      "[[0.99859416 0.00140581]]\n",
      "[0]\n",
      "[[0.99855113 0.00144887]]\n",
      "[0]\n",
      "[[0.9795321 0.0204679]]\n",
      "[0]\n",
      "skip\n",
      "[[0.9984318  0.00156817]]\n",
      "[0]\n",
      "[[0.9925219  0.00747814]]\n",
      "[0]\n",
      "[[9.995196e-01 4.804243e-04]]\n",
      "[0]\n",
      "skip\n",
      "[[0.99216443 0.00783554]]\n",
      "[0]\n",
      "[[0.9733394  0.02666063]]\n",
      "[0]\n",
      "[[0.99334407 0.00665594]]\n",
      "[0]\n",
      "[[0.99683845 0.00316154]]\n",
      "[0]\n",
      "[[0.9966118  0.00338824]]\n",
      "[0]\n",
      "[[0.98086447 0.01913554]]\n",
      "[0]\n",
      "[[0.9963357  0.00366434]]\n",
      "[0]\n",
      "skip\n",
      "[[0.4733829 0.5266171]]\n",
      "[1]\n",
      "skip\n",
      "[[0.9989307  0.00106932]]\n",
      "[0]\n",
      "skip\n",
      "[[0.9986168  0.00138319]]\n",
      "[0]\n",
      "[[9.998854e-01 1.146068e-04]]\n",
      "[0]\n",
      "[[0.58483064 0.4151694 ]]\n",
      "[0]\n",
      "[[0.9098049  0.09019513]]\n",
      "[0]\n",
      "[[0.998232 0.001768]]\n",
      "[0]\n",
      "skip\n",
      "skip\n",
      "[[0.9951162  0.00488381]]\n",
      "[0]\n",
      "[[0.98063344 0.01936659]]\n",
      "[0]\n",
      "[[0.99422526 0.00577472]]\n",
      "[0]\n",
      "[[0.99825144 0.00174857]]\n",
      "[0]\n",
      "[[0.9963695 0.0036305]]\n",
      "[0]\n",
      "[[0.65757    0.34243003]]\n",
      "[0]\n",
      "[[9.996044e-01 3.955703e-04]]\n",
      "[0]\n",
      "[[0.9986985  0.00130152]]\n",
      "[0]\n",
      "skip\n",
      "[[9.9987143e-01 1.2859445e-04]]\n",
      "[0]\n",
      "[[0.99673486 0.00326514]]\n",
      "[0]\n",
      "[[0.6591979  0.34080204]]\n",
      "[0]\n",
      "skip\n",
      "[[0.24384785 0.75615215]]\n",
      "[1]\n",
      "[[0.9932745  0.00672549]]\n",
      "[0]\n",
      "[[0.9818769  0.01812306]]\n",
      "[0]\n",
      "[[0.961305   0.03869501]]\n",
      "[0]\n",
      "skip\n",
      "[[0.7531018  0.24689816]]\n",
      "[0]\n",
      "skip\n",
      "[[0.9981092  0.00189078]]\n",
      "[0]\n",
      "skip\n",
      "[[0.9980597 0.0019403]]\n",
      "[0]\n",
      "[[0.9980322  0.00196781]]\n",
      "[0]\n",
      "[[9.995329e-01 4.671127e-04]]\n",
      "[0]\n",
      "[[0.9943867 0.0056133]]\n",
      "[0]\n",
      "skip\n",
      "skip\n",
      "[[0.99498874 0.00501128]]\n",
      "[0]\n",
      "[[0.985868   0.01413204]]\n",
      "[0]\n",
      "[[0.9984226  0.00157739]]\n",
      "[0]\n",
      "[[0.99728227 0.0027177 ]]\n",
      "[0]\n",
      "skip\n",
      "[[0.9959943  0.00400565]]\n",
      "[0]\n",
      "[[9.9989569e-01 1.0431066e-04]]\n",
      "[0]\n",
      "[[0.21104425 0.78895575]]\n",
      "[1]\n",
      "skip\n",
      "[[0.88116217 0.11883783]]\n",
      "[0]\n",
      "[[0.13370532 0.8662947 ]]\n",
      "[1]\n",
      "[[0.19010806 0.80989194]]\n",
      "[1]\n",
      "skip\n",
      "[[0.9984268  0.00157319]]\n",
      "[0]\n",
      "[[9.999023e-01 9.768261e-05]]\n",
      "[0]\n",
      "[[0.99167544 0.00832456]]\n",
      "[0]\n",
      "[[0.8583474  0.14165258]]\n",
      "[0]\n",
      "[[0.9975023  0.00249766]]\n",
      "[0]\n",
      "[[0.99613047 0.00386952]]\n",
      "[0]\n",
      "skip\n",
      "[[0.9941879 0.0058121]]\n",
      "[0]\n",
      "[[9.9981552e-01 1.8448845e-04]]\n",
      "[0]\n",
      "[[0.99449784 0.00550214]]\n",
      "[0]\n",
      "skip\n"
     ]
    }
   ],
   "source": [
    "for i in range(1, 100):\n",
    "    ## Loading saved model\n",
    "    try:\n",
    "        \n",
    "        dataCopy = pd.DataFrame(Xtrain.loc[[i]])\n",
    "        dataCopy = pd.get_dummies(dataCopy)\n",
    "\n",
    "\n",
    "        ## Data prep for model prediction\n",
    "        missingFeatures = list(set(list(model.feature_names_in_)) - set(list(pd.get_dummies(dataCopy).columns)))\n",
    "\n",
    "        ## Adding missing fields for prediction\n",
    "        for i in missingFeatures:\n",
    "            dataCopy[i] = 0\n",
    "\n",
    "        print(model.predict_proba(dataCopy[model.feature_names_in_]))\n",
    "        print(model.predict(dataCopy[model.feature_names_in_]))\n",
    "    except:\n",
    "        print(\"skip\")"
   ]
  },
  {
   "cell_type": "code",
   "execution_count": 68,
   "id": "333e59a7",
   "metadata": {
    "ExecuteTime": {
     "end_time": "2023-04-07T07:39:39.999846Z",
     "start_time": "2023-04-07T07:39:39.286846Z"
    }
   },
   "outputs": [
    {
     "name": "stdout",
     "output_type": "stream",
     "text": [
      "[0]\n",
      "[0]\n",
      "[0]\n",
      "[0]\n",
      "[0]\n",
      "[0]\n",
      "[0]\n",
      "[0]\n",
      "skip\n",
      "[0]\n",
      "[0]\n",
      "skip\n",
      "[0]\n",
      "[0]\n",
      "[0]\n",
      "[0]\n",
      "[0]\n",
      "[0]\n",
      "[0]\n",
      "[0]\n",
      "[0]\n",
      "[0]\n",
      "[0]\n",
      "skip\n",
      "[0]\n",
      "[0]\n",
      "[0]\n",
      "skip\n",
      "[0]\n",
      "[0]\n",
      "[0]\n",
      "[0]\n",
      "[0]\n",
      "[0]\n",
      "[0]\n",
      "skip\n",
      "[1]\n",
      "skip\n",
      "[0]\n",
      "skip\n",
      "[0]\n",
      "[0]\n",
      "[0]\n",
      "[0]\n",
      "[0]\n",
      "skip\n",
      "skip\n",
      "[0]\n",
      "[0]\n",
      "[0]\n",
      "[0]\n",
      "[0]\n",
      "[0]\n",
      "[0]\n",
      "[0]\n",
      "skip\n",
      "[0]\n",
      "[0]\n",
      "[0]\n",
      "skip\n",
      "[1]\n",
      "[0]\n",
      "[0]\n",
      "[0]\n",
      "skip\n",
      "[0]\n",
      "skip\n",
      "[0]\n",
      "skip\n",
      "[0]\n",
      "[0]\n",
      "[0]\n",
      "[0]\n",
      "skip\n",
      "skip\n",
      "[0]\n",
      "[0]\n",
      "[0]\n",
      "[0]\n",
      "skip\n",
      "[0]\n",
      "[0]\n",
      "[1]\n",
      "skip\n",
      "[0]\n",
      "[1]\n",
      "[1]\n",
      "skip\n",
      "[0]\n",
      "[0]\n",
      "[0]\n",
      "[0]\n",
      "[0]\n",
      "[0]\n",
      "skip\n",
      "[0]\n",
      "[0]\n",
      "[0]\n",
      "skip\n"
     ]
    }
   ],
   "source": [
    "for i in range(1, 100):\n",
    "    ## Loading saved model\n",
    "    try:\n",
    "        \n",
    "        dataCopy = pd.DataFrame(Xtrain.loc[[i]])\n",
    "        dataCopy = pd.get_dummies(dataCopy)\n",
    "\n",
    "\n",
    "        ## Data prep for model prediction\n",
    "        missingFeatures = list(set(list(model.feature_names_in_)) - set(list(pd.get_dummies(dataCopy).columns)))\n",
    "\n",
    "        ## Adding missing fields for prediction\n",
    "        for i in missingFeatures:\n",
    "            dataCopy[i] = 0\n",
    "\n",
    "        print(model.predict(dataCopy[model.feature_names_in_]))\n",
    "    except:\n",
    "        print(\"skip\")"
   ]
  },
  {
   "cell_type": "code",
   "execution_count": null,
   "id": "6a7da8e1",
   "metadata": {},
   "outputs": [],
   "source": []
  },
  {
   "cell_type": "code",
   "execution_count": null,
   "id": "2317e86a",
   "metadata": {},
   "outputs": [],
   "source": []
  },
  {
   "cell_type": "markdown",
   "id": "44739e11",
   "metadata": {},
   "source": [
    "###### Feature Importance - RF"
   ]
  },
  {
   "cell_type": "code",
   "execution_count": 37,
   "id": "6ae66de6",
   "metadata": {
    "ExecuteTime": {
     "end_time": "2023-04-03T05:20:02.624054Z",
     "start_time": "2023-04-03T05:20:02.547870Z"
    }
   },
   "outputs": [],
   "source": [
    "featureImpDf = pd.DataFrame({'Value': rfModel.feature_importances_, 'Feature': Xtrain.columns})"
   ]
  },
  {
   "cell_type": "code",
   "execution_count": 38,
   "id": "297ceca1",
   "metadata": {
    "ExecuteTime": {
     "end_time": "2023-04-03T05:20:02.639868Z",
     "start_time": "2023-04-03T05:20:02.625869Z"
    }
   },
   "outputs": [
    {
     "data": {
      "text/html": [
       "<div>\n",
       "<style scoped>\n",
       "    .dataframe tbody tr th:only-of-type {\n",
       "        vertical-align: middle;\n",
       "    }\n",
       "\n",
       "    .dataframe tbody tr th {\n",
       "        vertical-align: top;\n",
       "    }\n",
       "\n",
       "    .dataframe thead th {\n",
       "        text-align: right;\n",
       "    }\n",
       "</style>\n",
       "<table border=\"1\" class=\"dataframe\">\n",
       "  <thead>\n",
       "    <tr style=\"text-align: right;\">\n",
       "      <th></th>\n",
       "      <th>Value</th>\n",
       "      <th>Feature</th>\n",
       "    </tr>\n",
       "  </thead>\n",
       "  <tbody>\n",
       "    <tr>\n",
       "      <th>1</th>\n",
       "      <td>0.367675</td>\n",
       "      <td>duration_updated</td>\n",
       "    </tr>\n",
       "    <tr>\n",
       "      <th>2</th>\n",
       "      <td>0.080156</td>\n",
       "      <td>balance_updated</td>\n",
       "    </tr>\n",
       "    <tr>\n",
       "      <th>0</th>\n",
       "      <td>0.074291</td>\n",
       "      <td>age_updated</td>\n",
       "    </tr>\n",
       "    <tr>\n",
       "      <th>43</th>\n",
       "      <td>0.062512</td>\n",
       "      <td>poutcome_success</td>\n",
       "    </tr>\n",
       "    <tr>\n",
       "      <th>4</th>\n",
       "      <td>0.044107</td>\n",
       "      <td>previous</td>\n",
       "    </tr>\n",
       "    <tr>\n",
       "      <th>3</th>\n",
       "      <td>0.034516</td>\n",
       "      <td>campaign_updated</td>\n",
       "    </tr>\n",
       "    <tr>\n",
       "      <th>25</th>\n",
       "      <td>0.032566</td>\n",
       "      <td>housing_yes</td>\n",
       "    </tr>\n",
       "    <tr>\n",
       "      <th>29</th>\n",
       "      <td>0.024988</td>\n",
       "      <td>contact_unknown</td>\n",
       "    </tr>\n",
       "    <tr>\n",
       "      <th>40</th>\n",
       "      <td>0.017387</td>\n",
       "      <td>month_oct</td>\n",
       "    </tr>\n",
       "    <tr>\n",
       "      <th>37</th>\n",
       "      <td>0.016745</td>\n",
       "      <td>month_mar</td>\n",
       "    </tr>\n",
       "    <tr>\n",
       "      <th>27</th>\n",
       "      <td>0.016269</td>\n",
       "      <td>contact_cellular</td>\n",
       "    </tr>\n",
       "    <tr>\n",
       "      <th>36</th>\n",
       "      <td>0.015006</td>\n",
       "      <td>month_jun</td>\n",
       "    </tr>\n",
       "    <tr>\n",
       "      <th>30</th>\n",
       "      <td>0.012943</td>\n",
       "      <td>month_apr</td>\n",
       "    </tr>\n",
       "    <tr>\n",
       "      <th>38</th>\n",
       "      <td>0.011480</td>\n",
       "      <td>month_may</td>\n",
       "    </tr>\n",
       "    <tr>\n",
       "      <th>41</th>\n",
       "      <td>0.011293</td>\n",
       "      <td>month_sep</td>\n",
       "    </tr>\n",
       "    <tr>\n",
       "      <th>26</th>\n",
       "      <td>0.010624</td>\n",
       "      <td>loan_yes</td>\n",
       "    </tr>\n",
       "    <tr>\n",
       "      <th>31</th>\n",
       "      <td>0.010258</td>\n",
       "      <td>month_aug</td>\n",
       "    </tr>\n",
       "    <tr>\n",
       "      <th>42</th>\n",
       "      <td>0.010126</td>\n",
       "      <td>poutcome_failure</td>\n",
       "    </tr>\n",
       "    <tr>\n",
       "      <th>22</th>\n",
       "      <td>0.009468</td>\n",
       "      <td>education_tertiary</td>\n",
       "    </tr>\n",
       "    <tr>\n",
       "      <th>35</th>\n",
       "      <td>0.009110</td>\n",
       "      <td>month_jul</td>\n",
       "    </tr>\n",
       "    <tr>\n",
       "      <th>18</th>\n",
       "      <td>0.008898</td>\n",
       "      <td>marital_married</td>\n",
       "    </tr>\n",
       "    <tr>\n",
       "      <th>21</th>\n",
       "      <td>0.008665</td>\n",
       "      <td>education_secondary</td>\n",
       "    </tr>\n",
       "    <tr>\n",
       "      <th>6</th>\n",
       "      <td>0.008238</td>\n",
       "      <td>job_blue-collar</td>\n",
       "    </tr>\n",
       "    <tr>\n",
       "      <th>39</th>\n",
       "      <td>0.008120</td>\n",
       "      <td>month_nov</td>\n",
       "    </tr>\n",
       "    <tr>\n",
       "      <th>19</th>\n",
       "      <td>0.007741</td>\n",
       "      <td>marital_single</td>\n",
       "    </tr>\n",
       "    <tr>\n",
       "      <th>9</th>\n",
       "      <td>0.007335</td>\n",
       "      <td>job_management</td>\n",
       "    </tr>\n",
       "    <tr>\n",
       "      <th>14</th>\n",
       "      <td>0.007311</td>\n",
       "      <td>job_technician</td>\n",
       "    </tr>\n",
       "    <tr>\n",
       "      <th>5</th>\n",
       "      <td>0.006963</td>\n",
       "      <td>job_admin.</td>\n",
       "    </tr>\n",
       "    <tr>\n",
       "      <th>33</th>\n",
       "      <td>0.006710</td>\n",
       "      <td>month_feb</td>\n",
       "    </tr>\n",
       "    <tr>\n",
       "      <th>20</th>\n",
       "      <td>0.006266</td>\n",
       "      <td>education_primary</td>\n",
       "    </tr>\n",
       "    <tr>\n",
       "      <th>17</th>\n",
       "      <td>0.005803</td>\n",
       "      <td>marital_divorced</td>\n",
       "    </tr>\n",
       "    <tr>\n",
       "      <th>10</th>\n",
       "      <td>0.005651</td>\n",
       "      <td>job_retired</td>\n",
       "    </tr>\n",
       "    <tr>\n",
       "      <th>12</th>\n",
       "      <td>0.004720</td>\n",
       "      <td>job_services</td>\n",
       "    </tr>\n",
       "    <tr>\n",
       "      <th>13</th>\n",
       "      <td>0.004673</td>\n",
       "      <td>job_student</td>\n",
       "    </tr>\n",
       "    <tr>\n",
       "      <th>28</th>\n",
       "      <td>0.004663</td>\n",
       "      <td>contact_telephone</td>\n",
       "    </tr>\n",
       "    <tr>\n",
       "      <th>34</th>\n",
       "      <td>0.004619</td>\n",
       "      <td>month_jan</td>\n",
       "    </tr>\n",
       "    <tr>\n",
       "      <th>23</th>\n",
       "      <td>0.004032</td>\n",
       "      <td>education_unknown</td>\n",
       "    </tr>\n",
       "    <tr>\n",
       "      <th>11</th>\n",
       "      <td>0.003523</td>\n",
       "      <td>job_self-employed</td>\n",
       "    </tr>\n",
       "    <tr>\n",
       "      <th>15</th>\n",
       "      <td>0.003447</td>\n",
       "      <td>job_unemployed</td>\n",
       "    </tr>\n",
       "    <tr>\n",
       "      <th>7</th>\n",
       "      <td>0.003152</td>\n",
       "      <td>job_entrepreneur</td>\n",
       "    </tr>\n",
       "    <tr>\n",
       "      <th>32</th>\n",
       "      <td>0.002902</td>\n",
       "      <td>month_dec</td>\n",
       "    </tr>\n",
       "    <tr>\n",
       "      <th>8</th>\n",
       "      <td>0.002697</td>\n",
       "      <td>job_housemaid</td>\n",
       "    </tr>\n",
       "    <tr>\n",
       "      <th>24</th>\n",
       "      <td>0.001409</td>\n",
       "      <td>default_yes</td>\n",
       "    </tr>\n",
       "    <tr>\n",
       "      <th>16</th>\n",
       "      <td>0.000944</td>\n",
       "      <td>job_unknown</td>\n",
       "    </tr>\n",
       "  </tbody>\n",
       "</table>\n",
       "</div>"
      ],
      "text/plain": [
       "       Value              Feature\n",
       "1   0.367675     duration_updated\n",
       "2   0.080156      balance_updated\n",
       "0   0.074291          age_updated\n",
       "43  0.062512     poutcome_success\n",
       "4   0.044107             previous\n",
       "3   0.034516     campaign_updated\n",
       "25  0.032566          housing_yes\n",
       "29  0.024988      contact_unknown\n",
       "40  0.017387            month_oct\n",
       "37  0.016745            month_mar\n",
       "27  0.016269     contact_cellular\n",
       "36  0.015006            month_jun\n",
       "30  0.012943            month_apr\n",
       "38  0.011480            month_may\n",
       "41  0.011293            month_sep\n",
       "26  0.010624             loan_yes\n",
       "31  0.010258            month_aug\n",
       "42  0.010126     poutcome_failure\n",
       "22  0.009468   education_tertiary\n",
       "35  0.009110            month_jul\n",
       "18  0.008898      marital_married\n",
       "21  0.008665  education_secondary\n",
       "6   0.008238      job_blue-collar\n",
       "39  0.008120            month_nov\n",
       "19  0.007741       marital_single\n",
       "9   0.007335       job_management\n",
       "14  0.007311       job_technician\n",
       "5   0.006963           job_admin.\n",
       "33  0.006710            month_feb\n",
       "20  0.006266    education_primary\n",
       "17  0.005803     marital_divorced\n",
       "10  0.005651          job_retired\n",
       "12  0.004720         job_services\n",
       "13  0.004673          job_student\n",
       "28  0.004663    contact_telephone\n",
       "34  0.004619            month_jan\n",
       "23  0.004032    education_unknown\n",
       "11  0.003523    job_self-employed\n",
       "15  0.003447       job_unemployed\n",
       "7   0.003152     job_entrepreneur\n",
       "32  0.002902            month_dec\n",
       "8   0.002697        job_housemaid\n",
       "24  0.001409          default_yes\n",
       "16  0.000944          job_unknown"
      ]
     },
     "execution_count": 38,
     "metadata": {},
     "output_type": "execute_result"
    }
   ],
   "source": [
    "featureImpDf.sort_values(['Value'], ascending = False)"
   ]
  },
  {
   "cell_type": "code",
   "execution_count": 39,
   "id": "e5bcc16e",
   "metadata": {
    "ExecuteTime": {
     "end_time": "2023-04-03T05:24:27.418206Z",
     "start_time": "2023-04-03T05:24:27.123559Z"
    }
   },
   "outputs": [],
   "source": [
    "featureImpDf.to_csv('rf_feaure_imp.csv')"
   ]
  },
  {
   "cell_type": "code",
   "execution_count": null,
   "id": "837366d1",
   "metadata": {},
   "outputs": [],
   "source": []
  },
  {
   "cell_type": "markdown",
   "id": "5345742c",
   "metadata": {},
   "source": [
    "###### Feature Importance - XGboost"
   ]
  },
  {
   "cell_type": "code",
   "execution_count": 172,
   "id": "c716416f",
   "metadata": {
    "ExecuteTime": {
     "end_time": "2023-03-24T11:26:32.286396Z",
     "start_time": "2023-03-24T11:26:32.175137Z"
    }
   },
   "outputs": [
    {
     "data": {
      "text/html": [
       "<div>\n",
       "<style scoped>\n",
       "    .dataframe tbody tr th:only-of-type {\n",
       "        vertical-align: middle;\n",
       "    }\n",
       "\n",
       "    .dataframe tbody tr th {\n",
       "        vertical-align: top;\n",
       "    }\n",
       "\n",
       "    .dataframe thead th {\n",
       "        text-align: right;\n",
       "    }\n",
       "</style>\n",
       "<table border=\"1\" class=\"dataframe\">\n",
       "  <thead>\n",
       "    <tr style=\"text-align: right;\">\n",
       "      <th></th>\n",
       "      <th>Value</th>\n",
       "      <th>Feature</th>\n",
       "    </tr>\n",
       "  </thead>\n",
       "  <tbody>\n",
       "    <tr>\n",
       "      <th>43</th>\n",
       "      <td>0.257692</td>\n",
       "      <td>poutcome_success</td>\n",
       "    </tr>\n",
       "    <tr>\n",
       "      <th>29</th>\n",
       "      <td>0.130038</td>\n",
       "      <td>contact_unknown</td>\n",
       "    </tr>\n",
       "    <tr>\n",
       "      <th>37</th>\n",
       "      <td>0.059936</td>\n",
       "      <td>month_mar</td>\n",
       "    </tr>\n",
       "    <tr>\n",
       "      <th>40</th>\n",
       "      <td>0.043858</td>\n",
       "      <td>month_oct</td>\n",
       "    </tr>\n",
       "    <tr>\n",
       "      <th>34</th>\n",
       "      <td>0.038831</td>\n",
       "      <td>month_jan</td>\n",
       "    </tr>\n",
       "    <tr>\n",
       "      <th>35</th>\n",
       "      <td>0.030280</td>\n",
       "      <td>month_jul</td>\n",
       "    </tr>\n",
       "    <tr>\n",
       "      <th>31</th>\n",
       "      <td>0.027501</td>\n",
       "      <td>month_aug</td>\n",
       "    </tr>\n",
       "    <tr>\n",
       "      <th>25</th>\n",
       "      <td>0.024401</td>\n",
       "      <td>housing_yes</td>\n",
       "    </tr>\n",
       "    <tr>\n",
       "      <th>41</th>\n",
       "      <td>0.022773</td>\n",
       "      <td>month_sep</td>\n",
       "    </tr>\n",
       "    <tr>\n",
       "      <th>39</th>\n",
       "      <td>0.022318</td>\n",
       "      <td>month_nov</td>\n",
       "    </tr>\n",
       "    <tr>\n",
       "      <th>1</th>\n",
       "      <td>0.021296</td>\n",
       "      <td>duration_updated</td>\n",
       "    </tr>\n",
       "    <tr>\n",
       "      <th>36</th>\n",
       "      <td>0.020849</td>\n",
       "      <td>month_jun</td>\n",
       "    </tr>\n",
       "    <tr>\n",
       "      <th>33</th>\n",
       "      <td>0.018627</td>\n",
       "      <td>month_feb</td>\n",
       "    </tr>\n",
       "    <tr>\n",
       "      <th>30</th>\n",
       "      <td>0.017032</td>\n",
       "      <td>month_apr</td>\n",
       "    </tr>\n",
       "    <tr>\n",
       "      <th>32</th>\n",
       "      <td>0.016800</td>\n",
       "      <td>month_dec</td>\n",
       "    </tr>\n",
       "    <tr>\n",
       "      <th>38</th>\n",
       "      <td>0.014167</td>\n",
       "      <td>month_may</td>\n",
       "    </tr>\n",
       "    <tr>\n",
       "      <th>26</th>\n",
       "      <td>0.013961</td>\n",
       "      <td>loan_yes</td>\n",
       "    </tr>\n",
       "    <tr>\n",
       "      <th>11</th>\n",
       "      <td>0.012166</td>\n",
       "      <td>job_self-employed</td>\n",
       "    </tr>\n",
       "    <tr>\n",
       "      <th>15</th>\n",
       "      <td>0.011061</td>\n",
       "      <td>job_unemployed</td>\n",
       "    </tr>\n",
       "    <tr>\n",
       "      <th>4</th>\n",
       "      <td>0.010885</td>\n",
       "      <td>previous</td>\n",
       "    </tr>\n",
       "    <tr>\n",
       "      <th>7</th>\n",
       "      <td>0.010345</td>\n",
       "      <td>job_entrepreneur</td>\n",
       "    </tr>\n",
       "    <tr>\n",
       "      <th>27</th>\n",
       "      <td>0.010297</td>\n",
       "      <td>contact_cellular</td>\n",
       "    </tr>\n",
       "    <tr>\n",
       "      <th>6</th>\n",
       "      <td>0.009899</td>\n",
       "      <td>job_blue-collar</td>\n",
       "    </tr>\n",
       "    <tr>\n",
       "      <th>24</th>\n",
       "      <td>0.009389</td>\n",
       "      <td>default_yes</td>\n",
       "    </tr>\n",
       "    <tr>\n",
       "      <th>8</th>\n",
       "      <td>0.008612</td>\n",
       "      <td>job_housemaid</td>\n",
       "    </tr>\n",
       "    <tr>\n",
       "      <th>23</th>\n",
       "      <td>0.008593</td>\n",
       "      <td>education_unknown</td>\n",
       "    </tr>\n",
       "    <tr>\n",
       "      <th>42</th>\n",
       "      <td>0.008535</td>\n",
       "      <td>poutcome_failure</td>\n",
       "    </tr>\n",
       "    <tr>\n",
       "      <th>5</th>\n",
       "      <td>0.008319</td>\n",
       "      <td>job_admin.</td>\n",
       "    </tr>\n",
       "    <tr>\n",
       "      <th>13</th>\n",
       "      <td>0.008304</td>\n",
       "      <td>job_student</td>\n",
       "    </tr>\n",
       "    <tr>\n",
       "      <th>3</th>\n",
       "      <td>0.008201</td>\n",
       "      <td>campaign_updated</td>\n",
       "    </tr>\n",
       "    <tr>\n",
       "      <th>20</th>\n",
       "      <td>0.008109</td>\n",
       "      <td>education_primary</td>\n",
       "    </tr>\n",
       "    <tr>\n",
       "      <th>12</th>\n",
       "      <td>0.007793</td>\n",
       "      <td>job_services</td>\n",
       "    </tr>\n",
       "    <tr>\n",
       "      <th>17</th>\n",
       "      <td>0.007634</td>\n",
       "      <td>marital_divorced</td>\n",
       "    </tr>\n",
       "    <tr>\n",
       "      <th>0</th>\n",
       "      <td>0.007482</td>\n",
       "      <td>age_updated</td>\n",
       "    </tr>\n",
       "    <tr>\n",
       "      <th>19</th>\n",
       "      <td>0.007041</td>\n",
       "      <td>marital_single</td>\n",
       "    </tr>\n",
       "    <tr>\n",
       "      <th>14</th>\n",
       "      <td>0.006952</td>\n",
       "      <td>job_technician</td>\n",
       "    </tr>\n",
       "    <tr>\n",
       "      <th>2</th>\n",
       "      <td>0.006890</td>\n",
       "      <td>balance_updated</td>\n",
       "    </tr>\n",
       "    <tr>\n",
       "      <th>22</th>\n",
       "      <td>0.006796</td>\n",
       "      <td>education_tertiary</td>\n",
       "    </tr>\n",
       "    <tr>\n",
       "      <th>28</th>\n",
       "      <td>0.006709</td>\n",
       "      <td>contact_telephone</td>\n",
       "    </tr>\n",
       "    <tr>\n",
       "      <th>9</th>\n",
       "      <td>0.006667</td>\n",
       "      <td>job_management</td>\n",
       "    </tr>\n",
       "    <tr>\n",
       "      <th>10</th>\n",
       "      <td>0.006240</td>\n",
       "      <td>job_retired</td>\n",
       "    </tr>\n",
       "    <tr>\n",
       "      <th>18</th>\n",
       "      <td>0.005907</td>\n",
       "      <td>marital_married</td>\n",
       "    </tr>\n",
       "    <tr>\n",
       "      <th>16</th>\n",
       "      <td>0.005471</td>\n",
       "      <td>job_unknown</td>\n",
       "    </tr>\n",
       "    <tr>\n",
       "      <th>21</th>\n",
       "      <td>0.005343</td>\n",
       "      <td>education_secondary</td>\n",
       "    </tr>\n",
       "  </tbody>\n",
       "</table>\n",
       "</div>"
      ],
      "text/plain": [
       "       Value              Feature\n",
       "43  0.257692     poutcome_success\n",
       "29  0.130038      contact_unknown\n",
       "37  0.059936            month_mar\n",
       "40  0.043858            month_oct\n",
       "34  0.038831            month_jan\n",
       "35  0.030280            month_jul\n",
       "31  0.027501            month_aug\n",
       "25  0.024401          housing_yes\n",
       "41  0.022773            month_sep\n",
       "39  0.022318            month_nov\n",
       "1   0.021296     duration_updated\n",
       "36  0.020849            month_jun\n",
       "33  0.018627            month_feb\n",
       "30  0.017032            month_apr\n",
       "32  0.016800            month_dec\n",
       "38  0.014167            month_may\n",
       "26  0.013961             loan_yes\n",
       "11  0.012166    job_self-employed\n",
       "15  0.011061       job_unemployed\n",
       "4   0.010885             previous\n",
       "7   0.010345     job_entrepreneur\n",
       "27  0.010297     contact_cellular\n",
       "6   0.009899      job_blue-collar\n",
       "24  0.009389          default_yes\n",
       "8   0.008612        job_housemaid\n",
       "23  0.008593    education_unknown\n",
       "42  0.008535     poutcome_failure\n",
       "5   0.008319           job_admin.\n",
       "13  0.008304          job_student\n",
       "3   0.008201     campaign_updated\n",
       "20  0.008109    education_primary\n",
       "12  0.007793         job_services\n",
       "17  0.007634     marital_divorced\n",
       "0   0.007482          age_updated\n",
       "19  0.007041       marital_single\n",
       "14  0.006952       job_technician\n",
       "2   0.006890      balance_updated\n",
       "22  0.006796   education_tertiary\n",
       "28  0.006709    contact_telephone\n",
       "9   0.006667       job_management\n",
       "10  0.006240          job_retired\n",
       "18  0.005907      marital_married\n",
       "16  0.005471          job_unknown\n",
       "21  0.005343  education_secondary"
      ]
     },
     "execution_count": 172,
     "metadata": {},
     "output_type": "execute_result"
    }
   ],
   "source": [
    "featureImpDf = pd.DataFrame({'Value': xgbModel.feature_importances_, 'Feature': Xtrain.columns})\n",
    "featureImpDf.sort_values(['Value'], ascending = False)"
   ]
  },
  {
   "cell_type": "code",
   "execution_count": null,
   "id": "17fb485b",
   "metadata": {},
   "outputs": [],
   "source": []
  },
  {
   "cell_type": "code",
   "execution_count": null,
   "id": "82d61143",
   "metadata": {},
   "outputs": [],
   "source": []
  },
  {
   "cell_type": "markdown",
   "id": "ae7bf47a",
   "metadata": {},
   "source": [
    "<div style='padding: 5px; background-color: rgb(0, 0, 0)'> Insights </div>"
   ]
  },
  {
   "cell_type": "markdown",
   "id": "e8db40f5",
   "metadata": {},
   "source": [
    "- No missing values observed in any of the column\n",
    "- Data has a good mix of categorical and continous variables\n",
    "- Dataset is slightly imbalanced with 11.7% of positive classes\n",
    "- poutcome_unknown, month_may, day and marital_married are highly correlated with > 5 VIF\n",
    "    - poutcome is highly correlated with pdays\n",
    "    - Education secondary is correlated with education tertiary\n",
    "    - Married_single is correlated with marital_married"
   ]
  },
  {
   "cell_type": "code",
   "execution_count": null,
   "id": "59f8df54",
   "metadata": {},
   "outputs": [],
   "source": []
  },
  {
   "cell_type": "code",
   "execution_count": null,
   "id": "fd49f021",
   "metadata": {},
   "outputs": [],
   "source": []
  },
  {
   "cell_type": "code",
   "execution_count": null,
   "id": "3310328c",
   "metadata": {},
   "outputs": [],
   "source": []
  }
 ],
 "metadata": {
  "kernelspec": {
   "display_name": "Python 3 (ipykernel)",
   "language": "python",
   "name": "python3"
  },
  "language_info": {
   "codemirror_mode": {
    "name": "ipython",
    "version": 3
   },
   "file_extension": ".py",
   "mimetype": "text/x-python",
   "name": "python",
   "nbconvert_exporter": "python",
   "pygments_lexer": "ipython3",
   "version": "3.10.8"
  }
 },
 "nbformat": 4,
 "nbformat_minor": 5
}
